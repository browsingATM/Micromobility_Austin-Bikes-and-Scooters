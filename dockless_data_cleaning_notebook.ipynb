{
 "cells": [
  {
   "cell_type": "code",
   "execution_count": 1,
   "metadata": {},
   "outputs": [],
   "source": [
    "#Import libraries\n",
    "from sklearn import preprocessing\n",
    "%matplotlib inline\n",
    "import pandas as pd\n",
    "import numpy as np\n",
    "from datetime import datetime\n",
    "import scipy\n",
    "import matplotlib.pyplot as plt\n",
    "import pandas as pd\n",
    "import numpy as np\n",
    "import math\n",
    "import operator\n",
    "import seaborn as sns\n",
    "\n",
    "# seaborn graphing parameters\n",
    "sns.set_style(\"whitegrid\")\n",
    "sns.set_palette(\"BuGn_r\")\n",
    "sns.set(font_scale=1.5) \n",
    "\n",
    "#ml algos\n",
    "from sklearn.model_selection import train_test_split\n",
    "from sklearn.metrics import accuracy_score\n",
    "\n",
    "pd.options.display.max_rows = 30\n",
    "pd.options.display.max_columns = 30"
   ]
  },
  {
   "cell_type": "markdown",
   "metadata": {
    "collapsed": true
   },
   "source": [
    "## This dataset measures data from Austin's dockless scooter & bike program from April 3, 2018 through June 18, 2019."
   ]
  },
  {
   "cell_type": "code",
   "execution_count": 2,
   "metadata": {},
   "outputs": [
    {
     "name": "stderr",
     "output_type": "stream",
     "text": [
      "/Users/jakegrosek/miniconda3/envs/minimal_ds/lib/python3.7/site-packages/IPython/core/interactiveshell.py:3058: DtypeWarning: Columns (14,15) have mixed types. Specify dtype option on import or set low_memory=False.\n",
      "  interactivity=interactivity, compiler=compiler, result=result)\n"
     ]
    }
   ],
   "source": [
    "#import csv for private dockless rideshare co's\n",
    "#commented out:\n",
    "dockless = pd.read_csv('Dockless_Vehicle_Trips.csv', encoding='latin1')\n",
    "#dockless = pd.read_pickle('./Dockless_Vehicle_Trips.pkl')\n",
    "#dockless.to_pickle('./Dockless_Vehicle_Trips.pkl')"
   ]
  },
  {
   "cell_type": "code",
   "execution_count": 3,
   "metadata": {},
   "outputs": [],
   "source": [
    "#bcycle = pd.read_pickle('./Austin_B-Cycle_Visualization.pkl')\n",
    "#bcycle.to_pickle('./Austin_B-Cycle_Visualization.pkl')"
   ]
  },
  {
   "cell_type": "markdown",
   "metadata": {},
   "source": [
    "# SECTION I: DATA CLEANING & EXPLORATION"
   ]
  },
  {
   "cell_type": "markdown",
   "metadata": {},
   "source": [
    "## There are 5.44 millions dockless rides and a very small amount of rows with NaN's"
   ]
  },
  {
   "cell_type": "code",
   "execution_count": 4,
   "metadata": {},
   "outputs": [
    {
     "data": {
      "text/plain": [
       "5442039"
      ]
     },
     "execution_count": 4,
     "metadata": {},
     "output_type": "execute_result"
    }
   ],
   "source": [
    "# number of rides in the data\n",
    "len(dockless)"
   ]
  },
  {
   "cell_type": "code",
   "execution_count": 5,
   "metadata": {},
   "outputs": [
    {
     "data": {
      "text/plain": [
       "ID                            0\n",
       "Device ID                     0\n",
       "Vehicle Type                  1\n",
       "Trip Duration                 1\n",
       "Trip Distance                 1\n",
       "Start Time                    1\n",
       "End Time                      1\n",
       "Modified Date                 0\n",
       "Month                         1\n",
       "Hour                          1\n",
       "Day of Week                   1\n",
       "Council District (Start)    186\n",
       "Council District (End)      186\n",
       "Year                          1\n",
       "Census Tract Start          188\n",
       "Census Tract End            188\n",
       "dtype: int64"
      ]
     },
     "execution_count": 5,
     "metadata": {},
     "output_type": "execute_result"
    }
   ],
   "source": [
    "# visual aid for the rows with NaN's\n",
    "# relative to the bcycle data set, it is quite smaller\n",
    "dockless.isnull().sum()"
   ]
  },
  {
   "cell_type": "code",
   "execution_count": 6,
   "metadata": {},
   "outputs": [
    {
     "name": "stdout",
     "output_type": "stream",
     "text": [
      "5441283\n"
     ]
    }
   ],
   "source": [
    "# instantiating a variable for the original number of rides \n",
    "# in the dataset (including NaN's)\n",
    "dockless_rides = 5441283\n",
    "print(dockless_rides)"
   ]
  },
  {
   "cell_type": "markdown",
   "metadata": {},
   "source": [
    "## How many unique rows have NaN's ?"
   ]
  },
  {
   "cell_type": "code",
   "execution_count": 7,
   "metadata": {},
   "outputs": [
    {
     "data": {
      "text/plain": [
       "ID                            0\n",
       "Device ID                     0\n",
       "Vehicle Type                  1\n",
       "Trip Duration                 1\n",
       "Trip Distance                 1\n",
       "Start Time                    1\n",
       "End Time                      1\n",
       "Modified Date                 0\n",
       "Month                         1\n",
       "Hour                          1\n",
       "Day of Week                   1\n",
       "Council District (Start)    186\n",
       "Council District (End)      186\n",
       "Year                          1\n",
       "Census Tract Start          188\n",
       "Census Tract End            188\n",
       "dtype: int64"
      ]
     },
     "execution_count": 7,
     "metadata": {},
     "output_type": "execute_result"
    }
   ],
   "source": [
    "# confirmation all rows with NaN's are dropped\n",
    "dockless.isnull().sum()"
   ]
  },
  {
   "cell_type": "code",
   "execution_count": 8,
   "metadata": {},
   "outputs": [
    {
     "data": {
      "text/plain": [
       "757"
      ]
     },
     "execution_count": 8,
     "metadata": {},
     "output_type": "execute_result"
    }
   ],
   "source": [
    "# instantiating the sum of all original NaN values\n",
    "sum_of_dockless_nans = 1+1+1+1+1+1+1+1+186+186+1+188+188\n",
    "sum_of_dockless_nans"
   ]
  },
  {
   "cell_type": "code",
   "execution_count": 9,
   "metadata": {},
   "outputs": [
    {
     "data": {
      "text/plain": [
       "0.00013912160054898817"
      ]
     },
     "execution_count": 9,
     "metadata": {},
     "output_type": "execute_result"
    }
   ],
   "source": [
    "# The number of NaN rides is 0.013% of the data set\n",
    "sum_of_dockless_nans / dockless_rides"
   ]
  },
  {
   "cell_type": "markdown",
   "metadata": {},
   "source": [
    "## 0.01% of the data contains NaN's. They will be dropped for now."
   ]
  },
  {
   "cell_type": "code",
   "execution_count": 10,
   "metadata": {},
   "outputs": [],
   "source": [
    "# drop rows with NaN's\n",
    "dockless = dockless.dropna(axis=0)"
   ]
  },
  {
   "cell_type": "code",
   "execution_count": 11,
   "metadata": {},
   "outputs": [
    {
     "name": "stdout",
     "output_type": "stream",
     "text": [
      "5441851\n"
     ]
    }
   ],
   "source": [
    "# creating and printing the variable for the number of rides in the dataset without NaN's\n",
    "dockless_no_nans = len(dockless)\n",
    "print(dockless_no_nans)"
   ]
  },
  {
   "cell_type": "code",
   "execution_count": 12,
   "metadata": {},
   "outputs": [
    {
     "name": "stdout",
     "output_type": "stream",
     "text": [
      "There are 757 rides with NaN values out of 5441283 total rides, which is equal to 0.00013912160054898817.\n"
     ]
    }
   ],
   "source": [
    "nan_dockless_percent = sum_of_dockless_nans / dockless_rides\n",
    "print(\"There are {} rides with NaN values out of {} total rides, which is equal to {}.\"\n",
    "      .format(sum_of_dockless_nans, dockless_rides, nan_dockless_percent))"
   ]
  },
  {
   "cell_type": "markdown",
   "metadata": {},
   "source": [
    "# Cleaning up columns"
   ]
  },
  {
   "cell_type": "code",
   "execution_count": 13,
   "metadata": {},
   "outputs": [],
   "source": [
    "# data clean columns: \n",
    "dockless.columns = dockless.columns.str.strip().str.lower().str.replace(' ', '_').str.replace('(', '').str.replace(')', '')"
   ]
  },
  {
   "cell_type": "markdown",
   "metadata": {
    "collapsed": true
   },
   "source": [
    "## Dropping the modified_date column since, according to the AustinTexas.gov website, is when \"...the record was last modified (typically the date the data was extracted/loaded from the data provider), in local time (US/Central).\""
   ]
  },
  {
   "cell_type": "code",
   "execution_count": 14,
   "metadata": {},
   "outputs": [],
   "source": [
    "dockless.drop(['modified_date'], axis=1, errors='coerce', inplace=True)"
   ]
  },
  {
   "cell_type": "markdown",
   "metadata": {},
   "source": [
    "## Convert start/end time using to_datetime into a Unix timestamp"
   ]
  },
  {
   "cell_type": "code",
   "execution_count": 15,
   "metadata": {},
   "outputs": [],
   "source": [
    "# create two new columns to convert the time values to unix\n",
    "dockless['unix_start_time'] = dockless.start_time\n",
    "dockless['unix_end_time'] = dockless.end_time"
   ]
  },
  {
   "cell_type": "code",
   "execution_count": 16,
   "metadata": {},
   "outputs": [],
   "source": [
    "# set the parameter for how the date is being interpretted\n",
    "merge_time_dock = datetime.strptime('04/29/2019 05:30:00 PM', '%m/%d/%Y %H:%M:%S %p')\n",
    "\n",
    "# how i want the time coverted to (seconds)\n",
    "merge_time_dock.strftime('%s')\n",
    "\n",
    "# define unix timestamp function\n",
    "def dockless_to_timestamp(str):\n",
    "    merge_time_dock = datetime.strptime(str, '%m/%d/%Y %H:%M:%S %p')\n",
    "    return merge_time_dock.strftime('%s')"
   ]
  },
  {
   "cell_type": "code",
   "execution_count": 17,
   "metadata": {},
   "outputs": [],
   "source": [
    "# apply timestamp to new unix start time\n",
    "dockless['unix_start_time'] = dockless.unix_start_time.apply(dockless_to_timestamp)"
   ]
  },
  {
   "cell_type": "code",
   "execution_count": 18,
   "metadata": {},
   "outputs": [],
   "source": [
    "# apply timestamp to new unix end time\n",
    "dockless['unix_end_time'] = dockless.unix_end_time.apply(dockless_to_timestamp)"
   ]
  },
  {
   "cell_type": "code",
   "execution_count": 19,
   "metadata": {},
   "outputs": [],
   "source": [
    "# convert to integer\n",
    "dockless['unix_start_time'] = pd.to_numeric(dockless['unix_start_time'], errors='ignore', downcast='integer')"
   ]
  },
  {
   "cell_type": "code",
   "execution_count": 20,
   "metadata": {},
   "outputs": [],
   "source": [
    "# convert to integer\n",
    "dockless['unix_end_time'] = pd.to_numeric(dockless['unix_end_time'], errors='ignore', downcast='integer')"
   ]
  },
  {
   "cell_type": "markdown",
   "metadata": {},
   "source": [
    "## The Council Districts refer to the City of Austin's voting districts which are quite large and do not add helpful location data. Most rides started and ended in the same district, with the exception of District 0"
   ]
  },
  {
   "cell_type": "code",
   "execution_count": 21,
   "metadata": {},
   "outputs": [
    {
     "data": {
      "text/plain": [
       "9.0     4262555\n",
       "3.0      498504\n",
       "1.0      327468\n",
       "5.0      189368\n",
       "0.0       41656\n",
       "7.0       37811\n",
       "8.0       33117\n",
       "10.0      28544\n",
       "4.0       16669\n",
       "2.0        5672\n",
       "6.0         487\n",
       "Name: council_district_start, dtype: int64"
      ]
     },
     "execution_count": 21,
     "metadata": {},
     "output_type": "execute_result"
    }
   ],
   "source": [
    "dockless.council_district_start.value_counts()"
   ]
  },
  {
   "cell_type": "code",
   "execution_count": 22,
   "metadata": {},
   "outputs": [
    {
     "data": {
      "text/plain": [
       "9.0     4191987\n",
       "3.0      514803\n",
       "1.0      362081\n",
       "5.0      203877\n",
       "7.0       38961\n",
       "8.0       38768\n",
       "10.0      32538\n",
       "0.0       31674\n",
       "4.0       19330\n",
       "2.0        7348\n",
       "6.0         484\n",
       "Name: council_district_end, dtype: int64"
      ]
     },
     "execution_count": 22,
     "metadata": {},
     "output_type": "execute_result"
    }
   ],
   "source": [
    "dockless.council_district_end.value_counts()"
   ]
  },
  {
   "cell_type": "code",
   "execution_count": 23,
   "metadata": {},
   "outputs": [],
   "source": [
    "# dropping Council District\n",
    "dockless.drop(['council_district_start', 'council_district_end'], 1, inplace=True)"
   ]
  },
  {
   "cell_type": "markdown",
   "metadata": {},
   "source": [
    "## Memory adjustments"
   ]
  },
  {
   "cell_type": "code",
   "execution_count": 24,
   "metadata": {},
   "outputs": [
    {
     "name": "stdout",
     "output_type": "stream",
     "text": [
      "Average memory usage for object columns: 355.39MB\n"
     ]
    }
   ],
   "source": [
    "# memory calculation for dockless data set\n",
    "for dtype in ['float','int','object']:\n",
    "    selected_dtype = dockless.select_dtypes(include=[dtype])\n",
    "    mean_usage_b = selected_dtype.memory_usage(deep=True).mean()\n",
    "    mean_usage_mb = mean_usage_b / 1024 ** 2\n",
    "print(\"Average memory usage for {} columns: {:03.2f}MB\".format(dtype,mean_usage_mb))"
   ]
  },
  {
   "cell_type": "code",
   "execution_count": 25,
   "metadata": {},
   "outputs": [
    {
     "name": "stdout",
     "output_type": "stream",
     "text": [
      "<class 'pandas.core.frame.DataFrame'>\n",
      "Int64Index: 5441851 entries, 2 to 5442038\n",
      "Data columns (total 15 columns):\n",
      "id                    object\n",
      "device_id             object\n",
      "vehicle_type          object\n",
      "trip_duration         float64\n",
      "trip_distance         float64\n",
      "start_time            object\n",
      "end_time              object\n",
      "month                 float64\n",
      "hour                  float64\n",
      "day_of_week           float64\n",
      "year                  float64\n",
      "census_tract_start    object\n",
      "census_tract_end      object\n",
      "unix_start_time       int32\n",
      "unix_end_time         int32\n",
      "dtypes: float64(6), int32(2), object(7)\n",
      "memory usage: 3.1 GB\n"
     ]
    }
   ],
   "source": [
    "dockless.info(memory_usage='deep')"
   ]
  },
  {
   "cell_type": "markdown",
   "metadata": {},
   "source": [
    "## Converting ID and Device_ID to strings for consistency"
   ]
  },
  {
   "cell_type": "code",
   "execution_count": 26,
   "metadata": {},
   "outputs": [],
   "source": [
    "dockless['id']= dockless['id'].astype(str)"
   ]
  },
  {
   "cell_type": "code",
   "execution_count": 27,
   "metadata": {},
   "outputs": [],
   "source": [
    "dockless['device_id']= dockless['device_id'].astype(str)"
   ]
  },
  {
   "cell_type": "markdown",
   "metadata": {
    "collapsed": true
   },
   "source": [
    "## Convert columns to integers"
   ]
  },
  {
   "cell_type": "code",
   "execution_count": 28,
   "metadata": {},
   "outputs": [],
   "source": [
    "dockless['trip_duration'] = pd.to_numeric(dockless['trip_duration'], errors='ignore', downcast='integer')"
   ]
  },
  {
   "cell_type": "code",
   "execution_count": 29,
   "metadata": {},
   "outputs": [],
   "source": [
    "dockless['trip_distance'] = pd.to_numeric(dockless['trip_distance'], errors='ignore', downcast='integer')"
   ]
  },
  {
   "cell_type": "code",
   "execution_count": 30,
   "metadata": {},
   "outputs": [],
   "source": [
    "dockless['month'] = pd.to_numeric(dockless['month'], errors='ignore', downcast='integer')"
   ]
  },
  {
   "cell_type": "code",
   "execution_count": 31,
   "metadata": {},
   "outputs": [],
   "source": [
    "dockless['hour'] = pd.to_numeric(dockless['hour'], errors='ignore', downcast='integer')"
   ]
  },
  {
   "cell_type": "code",
   "execution_count": 32,
   "metadata": {},
   "outputs": [],
   "source": [
    "dockless['day_of_week'] = pd.to_numeric(dockless['day_of_week'], errors='ignore', downcast='integer')"
   ]
  },
  {
   "cell_type": "code",
   "execution_count": 33,
   "metadata": {},
   "outputs": [],
   "source": [
    "dockless['year'] = pd.to_numeric(dockless['year'], errors='ignore', downcast='integer')"
   ]
  },
  {
   "cell_type": "code",
   "execution_count": 34,
   "metadata": {},
   "outputs": [
    {
     "data": {
      "text/plain": [
       "id                    object\n",
       "device_id             object\n",
       "vehicle_type          object\n",
       "trip_duration          int32\n",
       "trip_distance          int32\n",
       "start_time            object\n",
       "end_time              object\n",
       "month                   int8\n",
       "hour                    int8\n",
       "day_of_week             int8\n",
       "year                   int16\n",
       "census_tract_start    object\n",
       "census_tract_end      object\n",
       "unix_start_time        int32\n",
       "unix_end_time          int32\n",
       "dtype: object"
      ]
     },
     "execution_count": 34,
     "metadata": {},
     "output_type": "execute_result"
    }
   ],
   "source": [
    "dockless.dtypes"
   ]
  },
  {
   "cell_type": "markdown",
   "metadata": {},
   "source": [
    "## ~95% of all dockless vehicle rides are Scooters"
   ]
  },
  {
   "cell_type": "code",
   "execution_count": 35,
   "metadata": {},
   "outputs": [
    {
     "data": {
      "text/plain": [
       "scooter    0.95149\n",
       "bicycle    0.04851\n",
       "Name: vehicle_type, dtype: float64"
      ]
     },
     "execution_count": 35,
     "metadata": {},
     "output_type": "execute_result"
    }
   ],
   "source": [
    "dockless.vehicle_type.value_counts(1)"
   ]
  },
  {
   "cell_type": "markdown",
   "metadata": {},
   "source": [
    "## Drop GEO-ID columns since they provide location information and it is not the focus of this research project"
   ]
  },
  {
   "cell_type": "code",
   "execution_count": 36,
   "metadata": {},
   "outputs": [],
   "source": [
    "dockless.drop(['census_tract_start'], axis=1, errors='coerce', inplace=True)"
   ]
  },
  {
   "cell_type": "code",
   "execution_count": 37,
   "metadata": {},
   "outputs": [],
   "source": [
    "dockless.drop(['census_tract_end'], axis=1, errors='coerce', inplace=True)"
   ]
  },
  {
   "cell_type": "markdown",
   "metadata": {},
   "source": [
    "## Create a column so time values are consistent in minutes and seconds in both datasets"
   ]
  },
  {
   "cell_type": "code",
   "execution_count": 38,
   "metadata": {},
   "outputs": [],
   "source": [
    "dockless.rename(columns={'trip_duration':'trip_duration_seconds'}, inplace=True)"
   ]
  },
  {
   "cell_type": "code",
   "execution_count": 39,
   "metadata": {},
   "outputs": [],
   "source": [
    "# dividing the number of seconds by 60\n",
    "dockless['trip_duration_minutes'] = round((dockless['trip_duration_seconds'] / 60), 2)"
   ]
  },
  {
   "cell_type": "markdown",
   "metadata": {},
   "source": [
    "## Negative time values"
   ]
  },
  {
   "cell_type": "code",
   "execution_count": 40,
   "metadata": {},
   "outputs": [
    {
     "data": {
      "text/plain": [
       "id                       7\n",
       "device_id                7\n",
       "vehicle_type             7\n",
       "trip_duration_seconds    7\n",
       "trip_distance            7\n",
       "start_time               7\n",
       "end_time                 7\n",
       "month                    7\n",
       "hour                     7\n",
       "day_of_week              7\n",
       "year                     7\n",
       "unix_start_time          7\n",
       "unix_end_time            7\n",
       "trip_duration_minutes    7\n",
       "dtype: int64"
      ]
     },
     "execution_count": 40,
     "metadata": {},
     "output_type": "execute_result"
    }
   ],
   "source": [
    "# identifying the number of rides with negative times\n",
    "dockless[dockless['trip_duration_seconds']<0].count()"
   ]
  },
  {
   "cell_type": "code",
   "execution_count": 41,
   "metadata": {},
   "outputs": [],
   "source": [
    "# instantiating the rows in the df with negative time\n",
    "neg_time = dockless[dockless['trip_duration_seconds']<0].index.tolist()\n",
    "\n",
    "# dropping the rows with negative time\n",
    "dockless.drop(neg_time, axis=0, inplace=True)"
   ]
  },
  {
   "cell_type": "markdown",
   "metadata": {},
   "source": [
    "## Negative distance values"
   ]
  },
  {
   "cell_type": "code",
   "execution_count": 42,
   "metadata": {},
   "outputs": [
    {
     "data": {
      "text/plain": [
       "id                       562\n",
       "device_id                562\n",
       "vehicle_type             562\n",
       "trip_duration_seconds    562\n",
       "trip_distance            562\n",
       "start_time               562\n",
       "end_time                 562\n",
       "month                    562\n",
       "hour                     562\n",
       "day_of_week              562\n",
       "year                     562\n",
       "unix_start_time          562\n",
       "unix_end_time            562\n",
       "trip_duration_minutes    562\n",
       "dtype: int64"
      ]
     },
     "execution_count": 42,
     "metadata": {},
     "output_type": "execute_result"
    }
   ],
   "source": [
    "# Similarly, some rows have a negative value for distance\n",
    "dockless[dockless['trip_distance']<0].count()"
   ]
  },
  {
   "cell_type": "code",
   "execution_count": 43,
   "metadata": {},
   "outputs": [],
   "source": [
    "# instantiating the rows in the df with negative distance\n",
    "neg_distance = dockless[dockless['trip_distance']<0].index.tolist()\n",
    "\n",
    "# dropping these rows\n",
    "dockless.drop(neg_distance, axis=0, inplace=True)"
   ]
  },
  {
   "cell_type": "markdown",
   "metadata": {},
   "source": [
    "## Creating formula for avg scooter distance"
   ]
  },
  {
   "cell_type": "code",
   "execution_count": 44,
   "metadata": {},
   "outputs": [],
   "source": [
    "# convert meters to miles\n",
    "# https://www.metric-conversions.org/length/meters-to-miles.htm\n",
    "to_miles = 0.00062137"
   ]
  },
  {
   "cell_type": "markdown",
   "metadata": {},
   "source": [
    "# Section II: Data Visualization & Exploration"
   ]
  },
  {
   "cell_type": "code",
   "execution_count": 45,
   "metadata": {},
   "outputs": [
    {
     "data": {
      "text/plain": [
       "<matplotlib.axes._subplots.AxesSubplot at 0x1264ea908>"
      ]
     },
     "execution_count": 45,
     "metadata": {},
     "output_type": "execute_result"
    },
    {
     "data": {
      "image/png": "[encoded data removed]",
      "text/plain": [
       "<Figure size 432x288 with 1 Axes>"
      ]
     },
     "metadata": {
      "needs_background": "light"
     },
     "output_type": "display_data"
    }
   ],
   "source": [
    "# outliers are deeply affecting the distribution\n",
    "dockless.trip_distance.hist(bins=100)"
   ]
  },
  {
   "cell_type": "markdown",
   "metadata": {},
   "source": [
    "## Limiting to 15,373.8 meters kept 99.9% of the ride data for analysis"
   ]
  },
  {
   "cell_type": "code",
   "execution_count": 46,
   "metadata": {},
   "outputs": [
    {
     "data": {
      "text/plain": [
       "0.9990950661994729"
      ]
     },
     "execution_count": 46,
     "metadata": {},
     "output_type": "execute_result"
    }
   ],
   "source": [
    "# creating a new variable to capture the shortened distribution\n",
    "df_distance = dockless.loc[(dockless['trip_distance'] <= 15373.8)]\n",
    "\n",
    "# division of new variable up to 15,373.8 m divided by the total number of rides in the dataset\n",
    "len(df_distance) / len(dockless)"
   ]
  },
  {
   "cell_type": "markdown",
   "metadata": {},
   "source": [
    "## Even after controlling for outliers, the distribution looks abnormal"
   ]
  },
  {
   "cell_type": "code",
   "execution_count": 47,
   "metadata": {},
   "outputs": [
    {
     "data": {
      "text/plain": [
       "<matplotlib.axes._subplots.AxesSubplot at 0x11fd14550>"
      ]
     },
     "execution_count": 47,
     "metadata": {},
     "output_type": "execute_result"
    },
    {
     "data": {
      "image/png": "[encoded data removed]",
      "text/plain": [
       "<Figure size 432x288 with 1 Axes>"
      ]
     },
     "metadata": {
      "needs_background": "light"
     },
     "output_type": "display_data"
    }
   ],
   "source": [
    "df_distance.trip_distance.hist(bins=100)"
   ]
  },
  {
   "cell_type": "markdown",
   "metadata": {},
   "source": [
    " # Furthermore, <1% of the rides extend beyond 8000 meters (4.87 mi)"
   ]
  },
  {
   "cell_type": "code",
   "execution_count": 48,
   "metadata": {},
   "outputs": [
    {
     "data": {
      "text/plain": [
       "id                       51174\n",
       "device_id                51174\n",
       "vehicle_type             51174\n",
       "trip_duration_seconds    51174\n",
       "trip_distance            51174\n",
       "start_time               51174\n",
       "end_time                 51174\n",
       "month                    51174\n",
       "hour                     51174\n",
       "day_of_week              51174\n",
       "year                     51174\n",
       "unix_start_time          51174\n",
       "unix_end_time            51174\n",
       "trip_duration_minutes    51174\n",
       "dtype: int64"
      ]
     },
     "execution_count": 48,
     "metadata": {},
     "output_type": "execute_result"
    }
   ],
   "source": [
    "# find the number of rides registering more than 8000 meters\n",
    "dockless.loc[(dockless['trip_distance'] > 8000)].count()"
   ]
  },
  {
   "cell_type": "code",
   "execution_count": 49,
   "metadata": {},
   "outputs": [
    {
     "data": {
      "text/plain": [
       "0.009413287351568825"
      ]
     },
     "execution_count": 49,
     "metadata": {},
     "output_type": "execute_result"
    }
   ],
   "source": [
    "51174 / len(df_distance)"
   ]
  },
  {
   "cell_type": "markdown",
   "metadata": {},
   "source": [
    "# Zeroing in on the abnormal distribution"
   ]
  },
  {
   "cell_type": "code",
   "execution_count": 50,
   "metadata": {},
   "outputs": [
    {
     "data": {
      "image/png": "[encoded data removed]",
      "text/plain": [
       "<Figure size 1296x576 with 2 Axes>"
      ]
     },
     "metadata": {
      "needs_background": "light"
     },
     "output_type": "display_data"
    }
   ],
   "source": [
    "# limiting the distribution from 0-8000\n",
    "plt.figure(figsize=[18,8])\n",
    "plt.subplot(1, 2, 1, autoscale_on=True)  # 1 line, 2 rows, index nr 1 (first position in the subplot)\n",
    "df_distance.trip_distance.hist(bins=100, range=(0,8000))\n",
    "plt.title(\"Identifying False Starts: 0-8000 Meters\",fontsize=20)\n",
    "plt.ylabel(\"Time (Seconds)\",fontsize=20) \n",
    "plt.xlabel(\"Meters\",fontsize=20)\n",
    "plt.tick_params(labelsize=14,labelcolor=\"black\")\n",
    "\n",
    "# limiting the distribution from 100-8000\n",
    "# It looks more Poisson \n",
    "plt.subplot(1, 2, 2, autoscale_on=True)  # 1 line, 2 rows, index nr 2 (second position in the subplot)\n",
    "df_distance.trip_distance.hist(bins=100, range=(100,8000))\n",
    "plt.title(\"Identifying False Starts: 100-8000 Meters\",fontsize=20)\n",
    "plt.ylabel(\"Time (Seconds)\",fontsize=20) \n",
    "plt.xlabel(\"Meters\",fontsize=20)\n",
    "plt.tick_params(labelsize=14,labelcolor=\"black\")\n",
    "\n",
    "\n",
    "plt.show()"
   ]
  },
  {
   "cell_type": "markdown",
   "metadata": {},
   "source": [
    "## 1-100 and 1-10 was not as indicative"
   ]
  },
  {
   "cell_type": "code",
   "execution_count": 51,
   "metadata": {},
   "outputs": [
    {
     "data": {
      "text/plain": [
       "<matplotlib.axes._subplots.AxesSubplot at 0x113915080>"
      ]
     },
     "execution_count": 51,
     "metadata": {},
     "output_type": "execute_result"
    },
    {
     "data": {
      "image/png": "[encoded data removed]",
      "text/plain": [
       "<Figure size 1296x576 with 2 Axes>"
      ]
     },
     "metadata": {
      "needs_background": "light"
     },
     "output_type": "display_data"
    }
   ],
   "source": [
    "# set figure size\n",
    "plt.figure(figsize=[18,8])\n",
    "\n",
    "# first subplot 1-100\n",
    "plt.subplot(1, 2, 1, autoscale_on=True)  # 1 line, 2 rows, index nr 1 (first position in the subplot)\n",
    "df_distance.trip_distance.hist(bins=50, range=(1,100))\n",
    "\n",
    "# second subplot 1-10\n",
    "plt.subplot(1, 2, 2, autoscale_on=True)  # 1 line, 2 rows, index nr 2 (second position in the subplot)\n",
    "df_distance.trip_distance.hist(bins=20, range=(1,10))"
   ]
  },
  {
   "cell_type": "markdown",
   "metadata": {},
   "source": [
    "## Interestingly, the number of rides registering zero are solely responsible for the abnormal distribution"
   ]
  },
  {
   "cell_type": "code",
   "execution_count": 52,
   "metadata": {},
   "outputs": [
    {
     "data": {
      "text/plain": [
       "<matplotlib.axes._subplots.AxesSubplot at 0x1145c7208>"
      ]
     },
     "execution_count": 52,
     "metadata": {},
     "output_type": "execute_result"
    },
    {
     "data": {
      "image/png": "[encoded data removed]",
      "text/plain": [
       "<Figure size 1296x576 with 2 Axes>"
      ]
     },
     "metadata": {
      "needs_background": "light"
     },
     "output_type": "display_data"
    }
   ],
   "source": [
    "# set figure size\n",
    "plt.figure(figsize=[18,8])\n",
    "\n",
    "# first subplot 0-100\n",
    "plt.subplot(1, 2, 1, autoscale_on=True)  # 1 line, 2 rows, index nr 1 (first position in the subplot)\n",
    "df_distance.trip_distance.hist(bins=50, range=(0,99))\n",
    "\n",
    "# second subplot 0-10\n",
    "plt.subplot(1, 2, 2, autoscale_on=True)  # 1 line, 2 rows, index nr 2 (second position in the subplot)\n",
    "df_distance.trip_distance.hist(bins=20, range=(0,9))"
   ]
  },
  {
   "cell_type": "code",
   "execution_count": 53,
   "metadata": {},
   "outputs": [
    {
     "data": {
      "text/plain": [
       "<matplotlib.axes._subplots.AxesSubplot at 0x1142f9eb8>"
      ]
     },
     "execution_count": 53,
     "metadata": {},
     "output_type": "execute_result"
    },
    {
     "data": {
      "image/png": "[encoded data removed]",
      "text/plain": [
       "<Figure size 1296x576 with 2 Axes>"
      ]
     },
     "metadata": {
      "needs_background": "light"
     },
     "output_type": "display_data"
    }
   ],
   "source": [
    "# set figure size\n",
    "plt.figure(figsize=[18,8])\n",
    "\n",
    "# first subplot 1-500\n",
    "plt.subplot(1, 2, 1, autoscale_on=True)  # 1 line, 2 rows, index nr 1 (first position in the subplot)\n",
    "df_distance.trip_distance.hist(bins=50, range=(1,500))\n",
    "\n",
    "# second subplot 500-1000\n",
    "plt.subplot(1, 2, 2, autoscale_on=True)  # 1 line, 2 rows, index nr 2 (second position in the subplot)\n",
    "df_distance.trip_distance.hist(bins=20, range=(500,1000))"
   ]
  },
  {
   "cell_type": "markdown",
   "metadata": {},
   "source": [
    "# Introducing the hypothesis of the \"false start.\""
   ]
  },
  {
   "cell_type": "code",
   "execution_count": 54,
   "metadata": {},
   "outputs": [
    {
     "data": {
      "text/plain": [
       "4972377"
      ]
     },
     "execution_count": 54,
     "metadata": {},
     "output_type": "execute_result"
    }
   ],
   "source": [
    "# instantiating a range between rides >= to 1 and <= 16000 meters\n",
    "normal_dockless_rides = dockless.loc[(dockless['trip_distance'] >= 1) & \n",
    "                                     (dockless['trip_distance'] <= 16000)]\n",
    "\n",
    "len(normal_dockless_rides)"
   ]
  },
  {
   "cell_type": "code",
   "execution_count": 55,
   "metadata": {},
   "outputs": [
    {
     "data": {
      "text/plain": [
       "468905"
      ]
     },
     "execution_count": 55,
     "metadata": {},
     "output_type": "execute_result"
    }
   ],
   "source": [
    "# instantiating a range between rides >= to 1 and <= 16000 meters\n",
    "outlier_dockless_rides = dockless.loc[(dockless['trip_distance'] == 0) | \n",
    "                                     (dockless['trip_distance'] > 16000)]\n",
    "\n",
    "len(outlier_dockless_rides)"
   ]
  },
  {
   "cell_type": "code",
   "execution_count": 56,
   "metadata": {},
   "outputs": [
    {
     "data": {
      "text/plain": [
       "0.9138245362030492"
      ]
     },
     "execution_count": 56,
     "metadata": {},
     "output_type": "execute_result"
    }
   ],
   "source": [
    "# calculating \"real rides\"\n",
    "rr = len(normal_dockless_rides) / len(dockless)\n",
    "rr"
   ]
  },
  {
   "cell_type": "code",
   "execution_count": 57,
   "metadata": {},
   "outputs": [
    {
     "data": {
      "text/plain": [
       "464633"
      ]
     },
     "execution_count": 57,
     "metadata": {},
     "output_type": "execute_result"
    }
   ],
   "source": [
    "# calculating \"false starts\"\n",
    "false_rides = dockless.loc[(dockless['trip_distance'] < 1)]\n",
    "len(false_rides)"
   ]
  },
  {
   "cell_type": "markdown",
   "metadata": {},
   "source": [
    "# Incredibly, almost 1 in 10 rides (8.5%) are registering zero distance"
   ]
  },
  {
   "cell_type": "code",
   "execution_count": 58,
   "metadata": {},
   "outputs": [
    {
     "data": {
      "text/plain": [
       "0.08539035469949913"
      ]
     },
     "execution_count": 58,
     "metadata": {},
     "output_type": "execute_result"
    }
   ],
   "source": [
    "fr = len(false_rides) / len(dockless)\n",
    "fr"
   ]
  },
  {
   "cell_type": "markdown",
   "metadata": {},
   "source": [
    "## Furthermore, 0.07% of all rides in the data traveled more than 16,000 meters (9.94 miles!)"
   ]
  },
  {
   "cell_type": "code",
   "execution_count": 59,
   "metadata": {},
   "outputs": [
    {
     "data": {
      "text/plain": [
       "0.0007851090974516667"
      ]
     },
     "execution_count": 59,
     "metadata": {},
     "output_type": "execute_result"
    }
   ],
   "source": [
    "# instantiating rides > 16000 meters\n",
    "extreme_rides = dockless.loc[(dockless['trip_distance'] > 16000)]\n",
    "\n",
    "len(extreme_rides) / len(dockless)"
   ]
  },
  {
   "cell_type": "markdown",
   "metadata": {},
   "source": [
    "## The distribution of rides between bikes and scooters"
   ]
  },
  {
   "cell_type": "code",
   "execution_count": 60,
   "metadata": {
    "scrolled": true
   },
   "outputs": [
    {
     "data": {
      "image/png": "[encoded data removed]",
      "text/plain": [
       "<Figure size 1190.88x595.44 with 2 Axes>"
      ]
     },
     "metadata": {
      "needs_background": "light"
     },
     "output_type": "display_data"
    }
   ],
   "source": [
    "bins = np.arange(0, 8000, 50)\n",
    "# using FacetGrid to show the rides by category 'vehicle type'\n",
    "dockless_types = sns.FacetGrid(normal_dockless_rides, col='vehicle_type', height=8.27)\n",
    "dockless_types.map(plt.hist, \"trip_distance\", bins=bins)\n",
    "dockless_types.set(xlabel='Distance Traveled', ylabel='Number of Occurences')\n",
    "plt.show()"
   ]
  },
  {
   "cell_type": "code",
   "execution_count": 61,
   "metadata": {},
   "outputs": [],
   "source": [
    "# instantiating a new df for \"real\" scooter rides\n",
    "normal_dockless_rides_s = dockless.loc[(dockless['trip_distance'] >= 1)\n",
    "                                    & (dockless['trip_distance'] <= 16000)\n",
    "                                    & (dockless['vehicle_type'] == 'scooter')\n",
    "                                    & (dockless['trip_duration_seconds'] >= 1)]\n"
   ]
  },
  {
   "cell_type": "code",
   "execution_count": 62,
   "metadata": {},
   "outputs": [],
   "source": [
    "# instantiating a new df for \"real\" bike rides\n",
    "normal_dockless_rides_b = dockless.loc[(dockless['trip_distance'] >= 1)\n",
    "                                    & (dockless['trip_distance'] <= 16000)\n",
    "                                    & (dockless['vehicle_type'] == 'bicycle')\n",
    "                                    & (dockless['trip_duration_seconds'] >= 1)]"
   ]
  },
  {
   "cell_type": "markdown",
   "metadata": {},
   "source": [
    "## It appears that while both have similar distribution shapes, the bike rides tend to cover longer distances"
   ]
  },
  {
   "cell_type": "code",
   "execution_count": 63,
   "metadata": {},
   "outputs": [
    {
     "data": {
      "image/png": "[encoded data removed]",
      "text/plain": [
       "<Figure size 1296x576 with 2 Axes>"
      ]
     },
     "metadata": {
      "needs_background": "light"
     },
     "output_type": "display_data"
    }
   ],
   "source": [
    "plt.figure(figsize=[18,8])\n",
    "\n",
    "# scooter plot\n",
    "plt.subplot(1, 2, 1, autoscale_on=True)  # 1 line, 2 rows, index nr 1 (first position in the subplot)\n",
    "normal_dockless_rides_s.trip_distance.hist(bins=100)\n",
    "plt.ylabel(\"Number of Occurences\",fontsize=20) \n",
    "plt.xlabel(\"Meters\",fontsize=20)\n",
    "\n",
    "# bike plot\n",
    "plt.subplot(1, 2, 2, autoscale_on=True)  # 1 line, 2 rows, index nr 2 (second position in the subplot)\n",
    "normal_dockless_rides_b.trip_distance.hist(bins=100)\n",
    "plt.ylabel(\"Number of Occurences\",fontsize=20) \n",
    "plt.xlabel(\"Meters\",fontsize=20)\n",
    "\n",
    "plt.show()"
   ]
  },
  {
   "cell_type": "markdown",
   "metadata": {},
   "source": [
    "## Day of Week analysis by vehicle type"
   ]
  },
  {
   "cell_type": "code",
   "execution_count": 64,
   "metadata": {},
   "outputs": [
    {
     "data": {
      "text/plain": [
       "<seaborn.axisgrid.FacetGrid at 0x113e05160>"
      ]
     },
     "execution_count": 64,
     "metadata": {},
     "output_type": "execute_result"
    },
    {
     "data": {
      "image/png": "[encoded data removed]",
      "text/plain": [
       "<Figure size 833.65x360 with 2 Axes>"
      ]
     },
     "metadata": {
      "needs_background": "light"
     },
     "output_type": "display_data"
    }
   ],
   "source": [
    "sns.catplot(x=\"day_of_week\", hue=\"vehicle_type\", col='year', \n",
    "            data=normal_dockless_rides, kind='count')"
   ]
  },
  {
   "cell_type": "markdown",
   "metadata": {},
   "source": [
    "## Even though the data from 2019 has three fewer months worth compared to 2018, there is about  ~50% more data which speaks to the increased adoption rate in the city."
   ]
  },
  {
   "cell_type": "code",
   "execution_count": 65,
   "metadata": {},
   "outputs": [
    {
     "name": "stdout",
     "output_type": "stream",
     "text": [
      "The total number of real rides in 2018 was 2021919.\n",
      "The total number of real rides in 2019 was 2950458.\n"
     ]
    }
   ],
   "source": [
    "count_2018 = len(normal_dockless_rides.loc[(normal_dockless_rides['year'] == 2018)])\n",
    "count_2019 = len(normal_dockless_rides.loc[(normal_dockless_rides['year'] == 2019)])\n",
    "\n",
    "print(\"The total number of real rides in 2018 was {}.\".format(count_2018))\n",
    "print(\"The total number of real rides in 2019 was {}.\".format(count_2019))"
   ]
  },
  {
   "cell_type": "markdown",
   "metadata": {},
   "source": [
    "# Understanding usage by unique devices"
   ]
  },
  {
   "cell_type": "markdown",
   "metadata": {},
   "source": [
    "## Since each device has its own unique identifying code, it is possible to measure and compare usage.\n",
    "## The most used device was riden 693 times."
   ]
  },
  {
   "cell_type": "code",
   "execution_count": 66,
   "metadata": {},
   "outputs": [
    {
     "data": {
      "text/plain": [
       "e9de6733-842d-46c6-bdec-2b1bb3ce6e78    693\n",
       "c501eef0-c361-4c25-9489-acaff8a3eeeb    679\n",
       "6cb1120f-282a-4894-89e7-395a13b1f1d0    647\n",
       "460665fe-f0b7-4fb8-a537-50b5e33cf066    640\n",
       "fa8de131-5904-4daa-8483-52ab9fea3e86    635\n",
       "                                       ... \n",
       "527ac062-4763-43c6-b21e-da20bf4fea62      1\n",
       "a1f50f1c-e30a-450c-afba-091b81c6dfeb      1\n",
       "6dcdf6bf-0283-4aab-a9b9-cc7cef9e602f      1\n",
       "22f5a83a-e7c2-4ded-9833-f0f9a5efd434      1\n",
       "76e22406-f3fc-4136-bfd2-d01ede917daa      1\n",
       "Name: device_id, Length: 48761, dtype: int64"
      ]
     },
     "execution_count": 66,
     "metadata": {},
     "output_type": "execute_result"
    }
   ],
   "source": [
    "# created a new variable for how frequently unique devices were used\n",
    "device_freq = dockless.device_id.value_counts()\n",
    "device_freq"
   ]
  },
  {
   "cell_type": "markdown",
   "metadata": {
    "collapsed": true
   },
   "source": [
    "## Similar to the distance distribution, scooter usage also has a long tail. "
   ]
  },
  {
   "cell_type": "code",
   "execution_count": 67,
   "metadata": {},
   "outputs": [
    {
     "data": {
      "image/png": "[encoded data removed]",
      "text/plain": [
       "<Figure size 1080x720 with 1 Axes>"
      ]
     },
     "metadata": {
      "needs_background": "light"
     },
     "output_type": "display_data"
    }
   ],
   "source": [
    "# The full distribution\n",
    "plt.figure(figsize=[15, 10])\n",
    "d_id_plot = device_freq.hist(bins=50, range=(0, 700))\n",
    "plt.title('How Many Rides Do Most Devices Handle?')\n",
    "plt.xlabel('Rides Taken')\n",
    "plt.ylabel('Unique Devices')\n",
    "unique_devices = d_id_plot.set(xlim=(0,700),\n",
    "                ylim=(0,5000),\n",
    "                xticks=[0,50, 100, 150, 200, 250, 300, 350,\n",
    "                        400, 450, 500, 550, 600, 650, 700],\n",
    "                yticks=[0, 500, 1000, 1500, 2000, 2500, 3000, 3500,\n",
    "                        4000, 4500, 5000])\n"
   ]
  },
  {
   "cell_type": "markdown",
   "metadata": {},
   "source": [
    "## How many scooters had a false starts compared to bikes?"
   ]
  },
  {
   "cell_type": "code",
   "execution_count": 68,
   "metadata": {},
   "outputs": [],
   "source": [
    "# instantiate parameters for calculating % of false starts\n",
    "mask_false_start = dockless.trip_distance == 0\n",
    "mask_scooter = dockless.vehicle_type == 'scooter'\n",
    "mask_bike = dockless.vehicle_type == 'bicycle'"
   ]
  },
  {
   "cell_type": "code",
   "execution_count": 69,
   "metadata": {},
   "outputs": [
    {
     "data": {
      "text/plain": [
       "455094"
      ]
     },
     "execution_count": 69,
     "metadata": {},
     "output_type": "execute_result"
    }
   ],
   "source": [
    "# number of scooters responsible for \"false starts\" \n",
    "dockless_false_start_s = dockless[mask_false_start & mask_scooter] \n",
    "dsfs = len(dockless_false_start_s)\n",
    "dsfs"
   ]
  },
  {
   "cell_type": "code",
   "execution_count": 70,
   "metadata": {},
   "outputs": [
    {
     "data": {
      "text/plain": [
       "9539"
      ]
     },
     "execution_count": 70,
     "metadata": {},
     "output_type": "execute_result"
    }
   ],
   "source": [
    "# number of bikes responsible for \"false starts\" \n",
    "dockless_false_start_b = dockless[mask_false_start & mask_bike] \n",
    "dbfs = len(dockless_false_start_b)\n",
    "dbfs"
   ]
  },
  {
   "cell_type": "code",
   "execution_count": 71,
   "metadata": {},
   "outputs": [
    {
     "name": "stdout",
     "output_type": "stream",
     "text": [
      "Of 464633 rides categorized as \"false starts,\" scooters were responsible for 455094 rides, \n",
      "while bikes were responsble for 9539 rides.\n",
      "\n",
      "Scooters false start percentage: 0.9794698181145118\n",
      "Bikes false start percentage: 0.020530181885488115\n"
     ]
    }
   ],
   "source": [
    "fs = len(false_rides)\n",
    "dsfs_percent = dsfs / fs\n",
    "dbfs_percent = dbfs / fs\n",
    "print(\"\"\"Of {} rides categorized as \"false starts,\" scooters were responsible for {} rides, \n",
    "while bikes were responsble for {} rides.\"\"\".format(fs, dsfs, dbfs))\n",
    "# 97.9% of false starts are during scooter rides\n",
    "print(\"\"\"\\nScooters false start percentage: {}\"\"\".format(dsfs_percent))\n",
    "# 2.05% of false starts are during bike rides\n",
    "print(\"\"\"Bikes false start percentage: {}\"\"\".format(dbfs_percent))"
   ]
  },
  {
   "cell_type": "markdown",
   "metadata": {},
   "source": [
    "# Pickle the notebook"
   ]
  },
  {
   "cell_type": "code",
   "execution_count": 72,
   "metadata": {},
   "outputs": [],
   "source": [
    "# create a new csv file with cleaned data\n",
    "dockless.to_csv('dockless_cleaned')\n",
    "\n",
    "# pickle the file\n",
    "dockless.to_pickle('./dockless_cleaned.pkl')\n",
    "\n",
    "# commented out; read the pickled fule\n",
    "#dockless = pd.read_pickle('./Dockless_Vehicle_Trips.pkl')\n"
   ]
  },
  {
   "cell_type": "markdown",
   "metadata": {
    "collapsed": true
   },
   "source": [
    "# Information about scooter & bike providers, permit totals, manufacturers, and other figures (not pickled)"
   ]
  },
  {
   "cell_type": "code",
   "execution_count": null,
   "metadata": {},
   "outputs": [],
   "source": [
    "## Listing the different scooter & bike manufacturers with their respectives ranges based on one full battery charge\n",
    "\n",
    "# different manufactured types of scooters or bike w/ their ranges in miles based on one full battery charge\n",
    "xiaomi = 15\n",
    "jump_bike = 40\n",
    "lime_s = 37\n",
    "vespa = 50\n",
    "veo_bike = 68\n",
    "\n",
    "## List of all dockless companies with permits and ranges calculated\n",
    "\n",
    "# Bird permits and scooter range\n",
    "bird_permits_scooter = 1000\n",
    "bird_range_scooter = xiaomi \n",
    "\n",
    "# JUMP permits and scooter/bike ranges\n",
    "jump_permits_scooter = 500\n",
    "jump_permits_bike = 500\n",
    "\n",
    "jump_range_scooter = xiaomi \n",
    "jump_range_bike = jump_bike \n",
    "\n",
    "# Lime scooter permits and range\n",
    "lime_permits_scooter = 500\n",
    "lime_range_scooter = lime_s \n",
    "\n",
    "# Lyft scooter permits and range\n",
    "lyft_permits_scooter = 500\n",
    "lyft_range_scooter = xiaomi\n",
    "\n",
    "# OjO scooter permits and range\n",
    "ojo_permits_scooter = 100\n",
    "ojo_range_scooter = vespa \n",
    "\n",
    "# Skip scooter permits and range\n",
    "skip_permits_scooter = 500\n",
    "skip_range_scooter = vespa \n",
    "\n",
    "# Spin scooter permits and range\n",
    "spin_permits_scooter = 500\n",
    "skip_range_scooter = xiaomi\n",
    "\n",
    "# VeoRide scooter & bike permits and range\n",
    "veo_permits_scooter = 300\n",
    "veo_permits_bike = 50\n",
    "\n",
    "veo_range_scooter = xiaomi \n",
    "veo_range_bike = veo_bike\n",
    "\n",
    "## Permit Totals\n",
    "\n",
    "# formula for scooter permits\n",
    "total_scooter_permits = (bird_permits_scooter + \n",
    "                         jump_permits_scooter + \n",
    "                         lime_permits_scooter + \n",
    "                         lyft_permits_scooter +\n",
    "                         ojo_permits_scooter +\n",
    "                         skip_permits_scooter + \n",
    "                         spin_permits_scooter + \n",
    "                         veo_permits_scooter)\n",
    "print(total_scooter_permits)\n",
    "\n",
    "#formula for bike permits\n",
    "total_bike_permits = (jump_permits_bike + veo_permits_bike)\n",
    "print(total_bike_permits)\n",
    "\n",
    "## Permit Percentages\n",
    "\n",
    "# formulas for scooter weighted avg\n",
    "bird_s_pct = bird_permits_scooter / total_scooter_permits\n",
    "jump_s_pct = jump_permits_scooter / total_scooter_permits\n",
    "lime_s_pct = lime_permits_scooter / total_scooter_permits\n",
    "lyft_s_pct = lyft_permits_scooter / total_scooter_permits\n",
    "ojo_s_pct = ojo_permits_scooter / total_scooter_permits\n",
    "skip_s_pct = skip_permits_scooter / total_scooter_permits\n",
    "spin_s_pct = spin_permits_scooter / total_scooter_permits\n",
    "veo_s_pct = veo_permits_scooter / total_scooter_permits\n",
    "\n",
    "# formulas for bike weighted avg\n",
    "jump_b_pct = jump_permits_bike / total_bike_permits\n",
    "veo_b_pct = veo_permits_bike / total_bike_permits\n",
    "print(jump_b_pct)\n",
    "print(veo_b_pct)\n",
    "\n",
    "permit_totals = [bird_permits_scooter, jump_permits_scooter, lime_permits_scooter, lyft_permits_scooter,\n",
    "                        ojo_permits_scooter, skip_permits_scooter, spin_permits_scooter, veo_permits_scooter]\n",
    "\n",
    "for permit in permit_totals:\n",
    "    print(permit / total_scooter_permits)"
   ]
  },
  {
   "cell_type": "markdown",
   "metadata": {},
   "source": []
  }
 ],
 "metadata": {
  "kernelspec": {
   "display_name": "Python 3",
   "language": "python",
   "name": "python3"
  },
  "language_info": {
   "codemirror_mode": {
    "name": "ipython",
    "version": 3
   },
   "file_extension": ".py",
   "mimetype": "text/x-python",
   "name": "python",
   "nbconvert_exporter": "python",
   "pygments_lexer": "ipython3",
   "version": "3.7.3"
  }
 },
 "nbformat": 4,
 "nbformat_minor": 2
}
