{
 "cells": [
  {
   "cell_type": "code",
   "execution_count": 3,
   "metadata": {},
   "outputs": [],
   "source": [
    "#Import libraries\n",
    "from sklearn import preprocessing\n",
    "%matplotlib inline\n",
    "import pandas as pd\n",
    "import numpy as np\n",
    "from datetime import datetime\n",
    "import scipy\n",
    "import matplotlib.pyplot as plt\n",
    "import pandas as pd\n",
    "import numpy as np\n",
    "import math\n",
    "import operator\n",
    "import seaborn as sns\n",
    "\n",
    "# seaborn graphing parameters\n",
    "sns.set_style(\"whitegrid\")\n",
    "sns.set_palette(\"BuGn_r\")\n",
    "sns.set(font_scale=1.5) \n",
    "\n",
    "#ml algos\n",
    "from sklearn.model_selection import train_test_split\n",
    "from sklearn.metrics import accuracy_score\n",
    "\n",
    "pd.options.display.max_rows = 30\n",
    "pd.options.display.max_columns = 30"
   ]
  },
  {
   "cell_type": "markdown",
   "metadata": {
    "collapsed": true
   },
   "source": [
    "## This dataset measures data from Austin's BCycle program from December 2013 through June 2019."
   ]
  },
  {
   "cell_type": "code",
   "execution_count": 2,
   "metadata": {},
   "outputs": [
    {
     "name": "stderr",
     "output_type": "stream",
     "text": [
      "/Users/jakegrosek/miniconda3/envs/minimal_ds/lib/python3.7/site-packages/IPython/core/interactiveshell.py:3058: DtypeWarning: Columns (2) have mixed types. Specify dtype option on import or set low_memory=False.\n",
      "  interactivity=interactivity, compiler=compiler, result=result)\n"
     ]
    }
   ],
   "source": [
    "#import csv for Austin B-Cycle Trip data\n",
    "bcycle = pd.read_csv('Austin_B-Cycle_Trips.csv', encoding='latin1')\n",
    "#bcycle = pd.read_pickle('./Austin_B-Cycle_Trips.pkl')\n",
    "#bcycle.to_pickle('./Austin_B-Cycle_Trips.pkl')"
   ]
  },
  {
   "cell_type": "markdown",
   "metadata": {},
   "source": [
    "# Section I - CITY OF AUSTIN B-CYCLE BIKE RENTAL PROGRAM"
   ]
  },
  {
   "cell_type": "markdown",
   "metadata": {},
   "source": [
    "## Before the dataset is altered, there are 1,171,610 recorded trips. This value will be used to calculate just how many of the rows dropped after the dataset is cleaned. "
   ]
  },
  {
   "cell_type": "code",
   "execution_count": 4,
   "metadata": {},
   "outputs": [
    {
     "data": {
      "text/plain": [
       "1171610"
      ]
     },
     "execution_count": 4,
     "metadata": {},
     "output_type": "execute_result"
    }
   ],
   "source": [
    "len(bcycle)"
   ]
  },
  {
   "cell_type": "code",
   "execution_count": 5,
   "metadata": {},
   "outputs": [
    {
     "name": "stdout",
     "output_type": "stream",
     "text": [
      "There are 1171610 trips in this dataset\n"
     ]
    }
   ],
   "source": [
    "# original number of trips\n",
    "num_trips = 1171610\n",
    "print(\"There are {} trips in this dataset\".format(num_trips))"
   ]
  },
  {
   "cell_type": "code",
   "execution_count": 6,
   "metadata": {},
   "outputs": [],
   "source": [
    "# data clean columns: \n",
    "bcycle.columns = bcycle.columns.str.strip().str.lower().str.replace(' ', '_').str.replace('(', '').str.replace(')', '')"
   ]
  },
  {
   "cell_type": "markdown",
   "metadata": {},
   "source": [
    "## For redundencies, we can drop Year and Month since the Checkout Date has the full date"
   ]
  },
  {
   "cell_type": "code",
   "execution_count": 7,
   "metadata": {},
   "outputs": [],
   "source": [
    "bcycle.drop(['month', 'year'], 1, inplace=True)"
   ]
  },
  {
   "cell_type": "markdown",
   "metadata": {},
   "source": [
    "## Sum of NaN's"
   ]
  },
  {
   "cell_type": "code",
   "execution_count": 8,
   "metadata": {},
   "outputs": [
    {
     "data": {
      "text/plain": [
       "trip_id                      0\n",
       "membership_type           6463\n",
       "bicycle_id                 723\n",
       "checkout_date                0\n",
       "checkout_time                0\n",
       "checkout_kiosk_id        23154\n",
       "checkout_kiosk               0\n",
       "return_kiosk_id          24423\n",
       "return_kiosk                 0\n",
       "trip_duration_minutes        0\n",
       "dtype: int64"
      ]
     },
     "execution_count": 8,
     "metadata": {},
     "output_type": "execute_result"
    }
   ],
   "source": [
    "# here we see the number of NaN's in the data set.\n",
    "# I want to see if the sum of NaN's is < 5%.\n",
    "bcycle.isnull().sum()"
   ]
  },
  {
   "cell_type": "code",
   "execution_count": 9,
   "metadata": {},
   "outputs": [
    {
     "data": {
      "text/plain": [
       "54763"
      ]
     },
     "execution_count": 9,
     "metadata": {},
     "output_type": "execute_result"
    }
   ],
   "source": [
    "# instantiating the sum of all original NaN values\n",
    "sum_of_bcycle_nans = 6463+723+23154+24423\n",
    "sum_of_bcycle_nans"
   ]
  },
  {
   "cell_type": "markdown",
   "metadata": {},
   "source": [
    "## Knowing that all the NaN values total < 5% of the data is good to know in case it make sense to drop them for expediency. If the t-tests results are problematic, reinvestigating the source of the NaN's is an identified area of improvement."
   ]
  },
  {
   "cell_type": "code",
   "execution_count": 10,
   "metadata": {},
   "outputs": [
    {
     "data": {
      "text/plain": [
       "0.04674166318143409"
      ]
     },
     "execution_count": 10,
     "metadata": {},
     "output_type": "execute_result"
    }
   ],
   "source": [
    "# 4.67% of the daata is NaN\n",
    "sum_of_bcycle_nans / num_trips"
   ]
  },
  {
   "cell_type": "markdown",
   "metadata": {},
   "source": [
    "## Bicycle_id has some floating characters that need to be cleaned"
   ]
  },
  {
   "cell_type": "code",
   "execution_count": 11,
   "metadata": {},
   "outputs": [],
   "source": [
    "# convert column to string\n",
    "bcycle['bicycle_id'] = bcycle.bicycle_id.astype(str)"
   ]
  },
  {
   "cell_type": "code",
   "execution_count": 12,
   "metadata": {},
   "outputs": [
    {
     "data": {
      "text/plain": [
       "<class 'str'>    1171610\n",
       "Name: bicycle_id, dtype: int64"
      ]
     },
     "execution_count": 12,
     "metadata": {},
     "output_type": "execute_result"
    }
   ],
   "source": [
    "bcycle.bicycle_id.apply(lambda x: type(x)).value_counts()"
   ]
  },
  {
   "cell_type": "markdown",
   "metadata": {},
   "source": [
    "## Remove additional characters"
   ]
  },
  {
   "cell_type": "code",
   "execution_count": 13,
   "metadata": {},
   "outputs": [],
   "source": [
    "bcycle['bicycle_id'] = bcycle['bicycle_id'].str.replace('G', '')"
   ]
  },
  {
   "cell_type": "code",
   "execution_count": 14,
   "metadata": {},
   "outputs": [],
   "source": [
    "bcycle['bicycle_id'] = bcycle['bicycle_id'].str.replace('B', '')"
   ]
  },
  {
   "cell_type": "code",
   "execution_count": 15,
   "metadata": {},
   "outputs": [
    {
     "data": {
      "text/plain": [
       "951.0    1896\n",
       "387.0    1861\n",
       "885.0    1855\n",
       "925.0    1852\n",
       "80.0     1844\n",
       "         ... \n",
       "195         3\n",
       "165         2\n",
       "805         2\n",
       "974         1\n",
       "980         1\n",
       "Name: bicycle_id, Length: 1008, dtype: int64"
      ]
     },
     "execution_count": 15,
     "metadata": {},
     "output_type": "execute_result"
    }
   ],
   "source": [
    "bcycle['bicycle_id'] = bcycle['bicycle_id'].str.replace('E', '')\n",
    "bcycle.bicycle_id.value_counts()"
   ]
  },
  {
   "cell_type": "code",
   "execution_count": 16,
   "metadata": {},
   "outputs": [],
   "source": [
    "bcycle['bicycle_id'] = bcycle.bicycle_id.astype(float)"
   ]
  },
  {
   "cell_type": "code",
   "execution_count": 17,
   "metadata": {},
   "outputs": [
    {
     "data": {
      "text/plain": [
       "<bound method IndexOpsMixin.value_counts of 0           207.0\n",
       "1           969.0\n",
       "2           214.0\n",
       "3           745.0\n",
       "4           164.0\n",
       "            ...  \n",
       "1171605     451.0\n",
       "1171606      62.0\n",
       "1171607     473.0\n",
       "1171608     461.0\n",
       "1171609    2197.0\n",
       "Name: bicycle_id, Length: 1171610, dtype: float64>"
      ]
     },
     "execution_count": 17,
     "metadata": {},
     "output_type": "execute_result"
    }
   ],
   "source": [
    "bcycle['bicycle_id'].value_counts"
   ]
  },
  {
   "cell_type": "code",
   "execution_count": 18,
   "metadata": {},
   "outputs": [
    {
     "name": "stdout",
     "output_type": "stream",
     "text": [
      "There are 723 rides with NaN values out of 1171610 total rides, which is equal to 0.0006170995467775113.\n"
     ]
    }
   ],
   "source": [
    "#confirmed there are 723 NaN values out of 1.17 M (0.0006% of the data)\n",
    "nan_bicycle_id = bcycle.bicycle_id.isnull().sum(axis=0)\n",
    "nan_bicycle_id_percent = nan_bicycle_id / num_trips # num trips is 1,171,610\n",
    "print(\"There are {} rides with NaN values out of {} total rides, which is equal to {}.\"\n",
    "      .format(nan_bicycle_id, num_trips, nan_bicycle_id_percent))"
   ]
  },
  {
   "cell_type": "markdown",
   "metadata": {},
   "source": [
    "## Dropping the NaN rides since they're only .06% of the data"
   ]
  },
  {
   "cell_type": "code",
   "execution_count": 19,
   "metadata": {},
   "outputs": [],
   "source": [
    "bcycle = bcycle.dropna(axis=0, subset=['bicycle_id'])"
   ]
  },
  {
   "cell_type": "code",
   "execution_count": 20,
   "metadata": {},
   "outputs": [],
   "source": [
    "# create a variable for the number of dropped bcycle_ids\n",
    "dropped_bcycle_id = 723"
   ]
  },
  {
   "cell_type": "markdown",
   "metadata": {},
   "source": [
    "## The return and checkout kiosk ID's need to be cleaned as well"
   ]
  },
  {
   "cell_type": "code",
   "execution_count": 21,
   "metadata": {},
   "outputs": [
    {
     "data": {
      "text/plain": [
       "trip_id                    int64\n",
       "membership_type           object\n",
       "bicycle_id               float64\n",
       "checkout_date             object\n",
       "checkout_time             object\n",
       "checkout_kiosk_id        float64\n",
       "checkout_kiosk            object\n",
       "return_kiosk_id          float64\n",
       "return_kiosk              object\n",
       "trip_duration_minutes      int64\n",
       "dtype: object"
      ]
     },
     "execution_count": 21,
     "metadata": {},
     "output_type": "execute_result"
    }
   ],
   "source": [
    "# both kiosk dtypes are floats. With such a large data set, \n",
    "# I'm getting concerned with processing time and memory.\n",
    "bcycle.dtypes"
   ]
  },
  {
   "cell_type": "markdown",
   "metadata": {},
   "source": [
    "## Total number of NaN's in the kiosk id's"
   ]
  },
  {
   "cell_type": "code",
   "execution_count": 22,
   "metadata": {},
   "outputs": [
    {
     "name": "stdout",
     "output_type": "stream",
     "text": [
      "There are 23131 rides with NaN values out of 1171610 total rides,     which is equal to 0.019742917865159908.\n"
     ]
    }
   ],
   "source": [
    "# confirmed 23,131 NaN values out of 1.17 M (1.9% of the data)\n",
    "nan_checkout_k = bcycle.checkout_kiosk_id.isnull().sum(axis=0)\n",
    "nan_checkout_kiosk_id_percent = nan_checkout_k / num_trips\n",
    "print(\"There are {} rides with NaN values out of {} total rides, \\\n",
    "    which is equal to {}.\"\n",
    "      .format(nan_checkout_k, num_trips, nan_checkout_kiosk_id_percent))"
   ]
  },
  {
   "cell_type": "code",
   "execution_count": 23,
   "metadata": {},
   "outputs": [
    {
     "name": "stdout",
     "output_type": "stream",
     "text": [
      "There are 24390 rides with NaN values out of 1171610 total rides,     which is equal to 0.020817507532369987 percent of the dataframe.\n"
     ]
    }
   ],
   "source": [
    "# confirmed 23,131 NaN values out of 1.17 M (2.08% of the data)\n",
    "nan_return_k = bcycle.return_kiosk_id.isnull().sum(axis=0)\n",
    "nan_return_kiosk_id_percent = nan_return_k / num_trips\n",
    "print(\"There are {} rides with NaN values out of {} total rides, \\\n",
    "    which is equal to {} percent of the dataframe.\"\n",
    "      .format(nan_return_k, num_trips, nan_return_kiosk_id_percent))"
   ]
  },
  {
   "cell_type": "code",
   "execution_count": 24,
   "metadata": {},
   "outputs": [],
   "source": [
    "# creating a variable for the number of dropped rows with NaN kiosk ID's\n",
    "nan_sum_ids = bcycle.apply(lambda row: True if pd.isnull(row['checkout_kiosk_id'])\n",
    "             or pd.isnull(row['return_kiosk_id']) else False, axis='columns')\n",
    "nan_sum_ids.sum()\n",
    "var_sum_ids = nan_sum_ids.sum()"
   ]
  },
  {
   "cell_type": "code",
   "execution_count": 25,
   "metadata": {},
   "outputs": [
    {
     "data": {
      "text/plain": [
       "42430"
      ]
     },
     "execution_count": 25,
     "metadata": {},
     "output_type": "execute_result"
    }
   ],
   "source": [
    "# 42, 420 rows of data with NaN's in either set of kiosk id's\n",
    "var_sum_ids"
   ]
  },
  {
   "cell_type": "code",
   "execution_count": 26,
   "metadata": {},
   "outputs": [],
   "source": [
    "# instantiating the value\n",
    "dropped_kiosk_ids = 42430"
   ]
  },
  {
   "cell_type": "markdown",
   "metadata": {},
   "source": [
    "## Dropping these rows for now, which account for 3.6% of the data"
   ]
  },
  {
   "cell_type": "code",
   "execution_count": 27,
   "metadata": {},
   "outputs": [
    {
     "name": "stdout",
     "output_type": "stream",
     "text": [
      "There are 42430 uniquw rows dropped from a total of 1171610, which is 0.036215122779764596 percent of the dataset.\n"
     ]
    }
   ],
   "source": [
    "# confirmed 42,430 NaN values out of 1.17 M (3.62% of the data)\n",
    "percent_kiosks_dropped = var_sum_ids / num_trips\n",
    "print(\"There are {} uniquw rows dropped from a total of {}, which is {} percent of the dataset.\"\n",
    "      .format(var_sum_ids, num_trips, percent_kiosks_dropped))"
   ]
  },
  {
   "cell_type": "code",
   "execution_count": 28,
   "metadata": {},
   "outputs": [],
   "source": [
    "# drop the rows with NaN's in the kiosk id's columns\n",
    "bcycle = bcycle.dropna(axis=0, subset=['checkout_kiosk_id', 'return_kiosk_id'])"
   ]
  },
  {
   "cell_type": "markdown",
   "metadata": {
    "collapsed": true
   },
   "source": [
    "## Finally, membership_type has a few NaN's as well"
   ]
  },
  {
   "cell_type": "code",
   "execution_count": 31,
   "metadata": {},
   "outputs": [
    {
     "name": "stdout",
     "output_type": "stream",
     "text": [
      "There are 6366 rides with NaN values out of 1171610 total rides, which is equal to 0.005433548706480826.\n"
     ]
    }
   ],
   "source": [
    "# confirmed 6,366 NaN values out of 1.17 M (0.54% of the data)\n",
    "nan_membership_type = bcycle.membership_type.isnull().sum(axis=0)\n",
    "nan_membership_type_percent = nan_membership_type / num_trips\n",
    "print(\"There are {} rides with NaN values out of {} total rides, which is equal to {}.\"\n",
    "      .format(nan_membership_type, num_trips, nan_membership_type_percent))"
   ]
  },
  {
   "cell_type": "code",
   "execution_count": 32,
   "metadata": {},
   "outputs": [],
   "source": [
    "# dropping the NaN rows in membership_type\n",
    "bcycle = bcycle.dropna(axis=0, subset=['membership_type'])"
   ]
  },
  {
   "cell_type": "markdown",
   "metadata": {
    "collapsed": true
   },
   "source": [
    "## Convert checkout_date to a standardized to_datetime"
   ]
  },
  {
   "cell_type": "code",
   "execution_count": 37,
   "metadata": {
    "collapsed": true
   },
   "outputs": [],
   "source": [
    "#bcycle['checkout_date'] = pd.to_datetime(bcycle['checkout_date'])"
   ]
  },
  {
   "cell_type": "markdown",
   "metadata": {},
   "source": [
    "## There is also a mismatch betweent the number of unique Return & Checkout Kiosk and the corresponding ID's"
   ]
  },
  {
   "cell_type": "code",
   "execution_count": 38,
   "metadata": {},
   "outputs": [
    {
     "data": {
      "text/plain": [
       "96"
      ]
     },
     "execution_count": 38,
     "metadata": {},
     "output_type": "execute_result"
    }
   ],
   "source": [
    "bcycle['checkout_kiosk_id'].nunique()"
   ]
  },
  {
   "cell_type": "code",
   "execution_count": 39,
   "metadata": {},
   "outputs": [
    {
     "data": {
      "text/plain": [
       "100"
      ]
     },
     "execution_count": 39,
     "metadata": {},
     "output_type": "execute_result"
    }
   ],
   "source": [
    "bcycle['checkout_kiosk'].nunique()"
   ]
  },
  {
   "cell_type": "code",
   "execution_count": 40,
   "metadata": {},
   "outputs": [
    {
     "data": {
      "text/plain": [
       "96"
      ]
     },
     "execution_count": 40,
     "metadata": {},
     "output_type": "execute_result"
    }
   ],
   "source": [
    "bcycle['return_kiosk_id'].nunique()"
   ]
  },
  {
   "cell_type": "code",
   "execution_count": 41,
   "metadata": {},
   "outputs": [
    {
     "data": {
      "text/plain": [
       "99"
      ]
     },
     "execution_count": 41,
     "metadata": {},
     "output_type": "execute_result"
    }
   ],
   "source": [
    "bcycle['return_kiosk'].nunique()"
   ]
  },
  {
   "cell_type": "markdown",
   "metadata": {},
   "source": [
    "# Addressing Memory Constraints"
   ]
  },
  {
   "cell_type": "code",
   "execution_count": 33,
   "metadata": {},
   "outputs": [
    {
     "name": "stdout",
     "output_type": "stream",
     "text": [
      "<class 'pandas.core.frame.DataFrame'>\n",
      "Int64Index: 1122091 entries, 0 to 1171609\n",
      "Data columns (total 10 columns):\n",
      "trip_id                  1122091 non-null int64\n",
      "membership_type          1122091 non-null object\n",
      "bicycle_id               1122091 non-null float64\n",
      "checkout_date            1122091 non-null object\n",
      "checkout_time            1122091 non-null object\n",
      "checkout_kiosk_id        1122091 non-null float64\n",
      "checkout_kiosk           1122091 non-null object\n",
      "return_kiosk_id          1122091 non-null float64\n",
      "return_kiosk             1122091 non-null object\n",
      "trip_duration_minutes    1122091 non-null int64\n",
      "dtypes: float64(3), int64(2), object(5)\n",
      "memory usage: 437.7 MB\n"
     ]
    }
   ],
   "source": [
    "bcycle.info(memory_usage='deep')"
   ]
  },
  {
   "cell_type": "markdown",
   "metadata": {},
   "source": [
    "## A quick calculation of the average memory usage per column shows is 65.81 MB !"
   ]
  },
  {
   "cell_type": "code",
   "execution_count": 34,
   "metadata": {},
   "outputs": [
    {
     "name": "stdout",
     "output_type": "stream",
     "text": [
      "Average memory usage for object columns: 65.81MB\n"
     ]
    }
   ],
   "source": [
    "# memory calc for B cycles data set\n",
    "for dtype in ['float','int','object']:\n",
    "    selected_dtype = bcycle.select_dtypes(include=[dtype])\n",
    "    mean_usage_b = selected_dtype.memory_usage(deep=True).mean()\n",
    "    mean_usage_mb = mean_usage_b / 1024 ** 2\n",
    "print(\"Average memory usage for {} columns: {:03.2f}MB\".format(dtype,mean_usage_mb))"
   ]
  },
  {
   "cell_type": "code",
   "execution_count": 35,
   "metadata": {},
   "outputs": [
    {
     "name": "stdout",
     "output_type": "stream",
     "text": [
      "Machine parameters for uint8\n",
      "---------------------------------------------------------------\n",
      "min = 0\n",
      "max = 255\n",
      "---------------------------------------------------------------\n",
      "\n",
      "Machine parameters for int8\n",
      "---------------------------------------------------------------\n",
      "min = -128\n",
      "max = 127\n",
      "---------------------------------------------------------------\n",
      "\n",
      "Machine parameters for int16\n",
      "---------------------------------------------------------------\n",
      "min = -32768\n",
      "max = 32767\n",
      "---------------------------------------------------------------\n",
      "\n"
     ]
    }
   ],
   "source": [
    "int_types = [\"uint8\", \"int8\", \"int16\"]\n",
    "for it in int_types:\n",
    "    print(np.iinfo(it))"
   ]
  },
  {
   "cell_type": "code",
   "execution_count": 37,
   "metadata": {},
   "outputs": [],
   "source": [
    "# Created a function to save time\n",
    "def mem_usage(pandas_obj):\n",
    "    if isinstance(pandas_obj,pd.DataFrame):\n",
    "        usage_b = pandas_obj.memory_usage(deep=True).sum()\n",
    "    else: # we assume if not a df it's a series \n",
    "        usage_b = pandas_obj.memory_usage(deep=True)\n",
    "        # convert bytes to megabytes\n",
    "    usage_mb = usage_b / 1024 ** 2\n",
    "    return usage_mb"
   ]
  },
  {
   "cell_type": "code",
   "execution_count": 38,
   "metadata": {},
   "outputs": [
    {
     "name": "stdout",
     "output_type": "stream",
     "text": [
      "25.68262481689453\n",
      "19.2619686126709\n"
     ]
    },
    {
     "data": {
      "text/html": [
       "<div>\n",
       "<style scoped>\n",
       "    .dataframe tbody tr th:only-of-type {\n",
       "        vertical-align: middle;\n",
       "    }\n",
       "\n",
       "    .dataframe tbody tr th {\n",
       "        vertical-align: top;\n",
       "    }\n",
       "\n",
       "    .dataframe thead th {\n",
       "        text-align: right;\n",
       "    }\n",
       "</style>\n",
       "<table border=\"1\" class=\"dataframe\">\n",
       "  <thead>\n",
       "    <tr style=\"text-align: right;\">\n",
       "      <th></th>\n",
       "      <th>before</th>\n",
       "      <th>after</th>\n",
       "    </tr>\n",
       "  </thead>\n",
       "  <tbody>\n",
       "    <tr>\n",
       "      <td>uint16</td>\n",
       "      <td>NaN</td>\n",
       "      <td>1.0</td>\n",
       "    </tr>\n",
       "    <tr>\n",
       "      <td>int64</td>\n",
       "      <td>2.0</td>\n",
       "      <td>NaN</td>\n",
       "    </tr>\n",
       "    <tr>\n",
       "      <td>uint64</td>\n",
       "      <td>NaN</td>\n",
       "      <td>1.0</td>\n",
       "    </tr>\n",
       "  </tbody>\n",
       "</table>\n",
       "</div>"
      ],
      "text/plain": [
       "        before  after\n",
       "uint16     NaN    1.0\n",
       "int64      2.0    NaN\n",
       "uint64     NaN    1.0"
      ]
     },
     "execution_count": 38,
     "metadata": {},
     "output_type": "execute_result"
    }
   ],
   "source": [
    "bcycle_int = bcycle.select_dtypes(include=['int'])\n",
    "converted_int = bcycle_int.apply(pd.to_numeric,downcast='unsigned')\n",
    "print(mem_usage(bcycle_int))\n",
    "print(mem_usage(converted_int))\n",
    "compare_ints = pd.concat([bcycle_int.dtypes,converted_int.dtypes],axis=1)\n",
    "compare_ints.columns = ['before','after']\n",
    "compare_ints.apply(pd.Series.value_counts)"
   ]
  },
  {
   "cell_type": "markdown",
   "metadata": {},
   "source": [
    "# Downcasting columns"
   ]
  },
  {
   "cell_type": "code",
   "execution_count": 39,
   "metadata": {},
   "outputs": [
    {
     "data": {
      "text/plain": [
       "trip_id                    int64\n",
       "membership_type           object\n",
       "bicycle_id               float64\n",
       "checkout_date             object\n",
       "checkout_time             object\n",
       "checkout_kiosk_id        float64\n",
       "checkout_kiosk            object\n",
       "return_kiosk_id          float64\n",
       "return_kiosk              object\n",
       "trip_duration_minutes      int64\n",
       "dtype: object"
      ]
     },
     "execution_count": 39,
     "metadata": {},
     "output_type": "execute_result"
    }
   ],
   "source": [
    "# see which dtypes each column is\n",
    "bcycle.dtypes"
   ]
  },
  {
   "cell_type": "code",
   "execution_count": 40,
   "metadata": {},
   "outputs": [],
   "source": [
    "bcycle['trip_id'] = pd.to_numeric(bcycle['trip_id'], \n",
    "                                  errors='ignore', downcast='integer')"
   ]
  },
  {
   "cell_type": "code",
   "execution_count": 41,
   "metadata": {},
   "outputs": [],
   "source": [
    "bcycle['bicycle_id'] = pd.to_numeric(bcycle['bicycle_id'], \n",
    "                                     errors='ignore', downcast='integer')"
   ]
  },
  {
   "cell_type": "code",
   "execution_count": 42,
   "metadata": {},
   "outputs": [],
   "source": [
    "bcycle['checkout_kiosk_id'] = pd.to_numeric(bcycle['checkout_kiosk_id'], \n",
    "                                            errors='ignore', downcast='integer')"
   ]
  },
  {
   "cell_type": "code",
   "execution_count": 43,
   "metadata": {},
   "outputs": [],
   "source": [
    "bcycle['return_kiosk_id'] = pd.to_numeric(bcycle['return_kiosk_id'], \n",
    "                                          errors='ignore', downcast='integer')"
   ]
  },
  {
   "cell_type": "code",
   "execution_count": 44,
   "metadata": {},
   "outputs": [],
   "source": [
    "bcycle['trip_duration_minutes'] = pd.to_numeric(bcycle['trip_duration_minutes'], \n",
    "                                                errors='ignore', downcast='integer')"
   ]
  },
  {
   "cell_type": "code",
   "execution_count": 45,
   "metadata": {},
   "outputs": [
    {
     "data": {
      "text/plain": [
       "trip_id                   int64\n",
       "membership_type          object\n",
       "bicycle_id                int16\n",
       "checkout_date            object\n",
       "checkout_time            object\n",
       "checkout_kiosk_id         int16\n",
       "checkout_kiosk           object\n",
       "return_kiosk_id           int16\n",
       "return_kiosk             object\n",
       "trip_duration_minutes     int16\n",
       "dtype: object"
      ]
     },
     "execution_count": 45,
     "metadata": {},
     "output_type": "execute_result"
    }
   ],
   "source": [
    "# after the downcast, these columns have been reduced\n",
    "# to their smallest possible integer size.\n",
    "bcycle.dtypes"
   ]
  },
  {
   "cell_type": "markdown",
   "metadata": {},
   "source": [
    "## Add column measuring time in seconds to match Dockless dataset"
   ]
  },
  {
   "cell_type": "code",
   "execution_count": 46,
   "metadata": {},
   "outputs": [],
   "source": [
    "bcycle['trip_duration_seconds'] = bcycle['trip_duration_minutes'] * 60"
   ]
  },
  {
   "cell_type": "code",
   "execution_count": 47,
   "metadata": {},
   "outputs": [
    {
     "data": {
      "text/html": [
       "<div>\n",
       "<style scoped>\n",
       "    .dataframe tbody tr th:only-of-type {\n",
       "        vertical-align: middle;\n",
       "    }\n",
       "\n",
       "    .dataframe tbody tr th {\n",
       "        vertical-align: top;\n",
       "    }\n",
       "\n",
       "    .dataframe thead th {\n",
       "        text-align: right;\n",
       "    }\n",
       "</style>\n",
       "<table border=\"1\" class=\"dataframe\">\n",
       "  <thead>\n",
       "    <tr style=\"text-align: right;\">\n",
       "      <th></th>\n",
       "      <th>trip_id</th>\n",
       "      <th>membership_type</th>\n",
       "      <th>bicycle_id</th>\n",
       "      <th>checkout_date</th>\n",
       "      <th>checkout_time</th>\n",
       "      <th>checkout_kiosk_id</th>\n",
       "      <th>checkout_kiosk</th>\n",
       "      <th>return_kiosk_id</th>\n",
       "      <th>return_kiosk</th>\n",
       "      <th>trip_duration_minutes</th>\n",
       "      <th>trip_duration_seconds</th>\n",
       "    </tr>\n",
       "  </thead>\n",
       "  <tbody>\n",
       "    <tr>\n",
       "      <td>0</td>\n",
       "      <td>9900285854</td>\n",
       "      <td>Annual (San Antonio B-cycle)</td>\n",
       "      <td>207</td>\n",
       "      <td>10/26/2014</td>\n",
       "      <td>13:12:00</td>\n",
       "      <td>2537</td>\n",
       "      <td>West &amp; 6th St.</td>\n",
       "      <td>2707</td>\n",
       "      <td>Rainey St @ Cummings</td>\n",
       "      <td>76</td>\n",
       "      <td>4560</td>\n",
       "    </tr>\n",
       "    <tr>\n",
       "      <td>1</td>\n",
       "      <td>9900285855</td>\n",
       "      <td>24-Hour Kiosk (Austin B-cycle)</td>\n",
       "      <td>969</td>\n",
       "      <td>10/26/2014</td>\n",
       "      <td>13:12:00</td>\n",
       "      <td>2498</td>\n",
       "      <td>Convention Center / 4th St. @ MetroRail</td>\n",
       "      <td>2566</td>\n",
       "      <td>Pfluger Bridge @ W 2nd Street</td>\n",
       "      <td>58</td>\n",
       "      <td>3480</td>\n",
       "    </tr>\n",
       "  </tbody>\n",
       "</table>\n",
       "</div>"
      ],
      "text/plain": [
       "      trip_id                 membership_type  bicycle_id checkout_date  \\\n",
       "0  9900285854    Annual (San Antonio B-cycle)         207    10/26/2014   \n",
       "1  9900285855  24-Hour Kiosk (Austin B-cycle)         969    10/26/2014   \n",
       "\n",
       "  checkout_time  checkout_kiosk_id                           checkout_kiosk  \\\n",
       "0      13:12:00               2537                           West & 6th St.   \n",
       "1      13:12:00               2498  Convention Center / 4th St. @ MetroRail   \n",
       "\n",
       "   return_kiosk_id                   return_kiosk  trip_duration_minutes  \\\n",
       "0             2707           Rainey St @ Cummings                     76   \n",
       "1             2566  Pfluger Bridge @ W 2nd Street                     58   \n",
       "\n",
       "   trip_duration_seconds  \n",
       "0                   4560  \n",
       "1                   3480  "
      ]
     },
     "execution_count": 47,
     "metadata": {},
     "output_type": "execute_result"
    }
   ],
   "source": [
    "bcycle.head(2)"
   ]
  },
  {
   "cell_type": "markdown",
   "metadata": {},
   "source": [
    "## Convert to positive time to eliminate negative time errors"
   ]
  },
  {
   "cell_type": "code",
   "execution_count": 48,
   "metadata": {},
   "outputs": [],
   "source": [
    "bcycle['trip_duration_seconds'] = bcycle['trip_duration_seconds'].abs()"
   ]
  },
  {
   "cell_type": "code",
   "execution_count": 49,
   "metadata": {},
   "outputs": [],
   "source": [
    "bcycle['trip_duration_minutes'] = bcycle['trip_duration_minutes'].abs()"
   ]
  },
  {
   "cell_type": "markdown",
   "metadata": {},
   "source": [
    "## Eliminate whitespaces in kiosk_ids"
   ]
  },
  {
   "cell_type": "code",
   "execution_count": 50,
   "metadata": {},
   "outputs": [
    {
     "data": {
      "text/plain": [
       "array(['10th & Red River', '11th & Salina', '11th & San Jacinto',\n",
       "       '13th & San Antonio', '17th & Guadalupe', '21st & Speedway @PCL',\n",
       "       '21st & University', '22nd & Pearl', '23rd & Rio Grande',\n",
       "       '23rd & San Jacinto @ DKR Stadium', '2nd & Congress', '3rd & West',\n",
       "       '4th & Congress', '5th & Bowie', '5th & Campbell',\n",
       "       '5th & San Marcos', '6th & Chalmers', '6th & Congress',\n",
       "       '6th & Navasota St.', '8th & Congress', '8th & Guadalupe',\n",
       "       '8th & Lavaca', 'ACC - Rio Grande & 12th',\n",
       "       'ACC - West & 12th Street', 'Barton Springs & Riverside',\n",
       "       'Barton Springs @ Kinney Ave', 'Barton Springs Pool',\n",
       "       'Boardwalk West', 'Brazos & 6th',\n",
       "       'Bullock Museum @ Congress & MLK',\n",
       "       'Capital Metro HQ - East 5th at Broadway',\n",
       "       'Capitol Station / Congress & 11th', 'City Hall / Lavaca & 2nd',\n",
       "       'Congress & Cesar Chavez', 'Convention Center / 3rd & Trinity',\n",
       "       'Convention Center / 4th St. @ MetroRail',\n",
       "       'Davis at Rainey Street', 'Dean Keeton & Speedway',\n",
       "       'Dean Keeton & Whitis', 'East 11th St. & San Marcos',\n",
       "       'East 11th St. at Victory Grill', 'East 2nd & Pedernales',\n",
       "       'East 4th & Chicon', 'East 6th & Pedernales St.',\n",
       "       'East 6th at Robert Martinez', 'East 7th & Pleasant Valley',\n",
       "       'Guadalupe & 21st', 'Guadalupe & 6th', 'Henderson & 9th',\n",
       "       'Hollow Creek & Barton Hills', 'Lake Austin & Enfield',\n",
       "       'Lake Austin Blvd @ Deep Eddy', 'Lakeshore & Pleasant Valley',\n",
       "       'Lakeshore @ Austin Hostel', 'Lavaca & 6th',\n",
       "       'Long Center @ South 1st & Riverside', 'Main Office',\n",
       "       'Medina & East 6th', 'MoPac Pedestrian Bridge @ Veterans Drive',\n",
       "       'Nash Hernandez @ RBJ South', 'Nueces & 26th', 'Nueces & 3rd',\n",
       "       'Nueces @ 3rd', 'Palmer Auditorium', 'Pease Park',\n",
       "       'Pfluger Bridge @ W 2nd Street', 'Plaza Saltillo',\n",
       "       'Rainey @ River St', 'Rainey St @ Cummings',\n",
       "       'Red River & 8th Street', 'Red River/Cesar Chavez @ The Fairmont',\n",
       "       'Republic Square', 'Republic Square @ 5th & Guadalupe',\n",
       "       'Republic Square @ Federal Courthouse Plaza',\n",
       "       'Republic Square @ Guadalupe & 4th St.', 'Rio Grande & 28th',\n",
       "       'Riverside @ S. Lamar', 'Rosewood & Angelina', 'Rosewood & Chicon',\n",
       "       'San Jacinto & 8th Street', 'South Congress & Academy',\n",
       "       'South Congress & Barton Springs at the Austin American-Statesman',\n",
       "       'South Congress & Elizabeth', 'South Congress & James',\n",
       "       'South Congress @ Bouldin Creek',\n",
       "       'State Capitol @ 14th & Colorado',\n",
       "       'State Capitol Visitors Garage @ San Jacinto & 12th',\n",
       "       'State Parking Garage @ Brazos & 18th',\n",
       "       'Sterzing at Barton Springs', 'Stolen', 'Toomey Rd @ South Lamar',\n",
       "       'Trinity & 6th Street', 'UT West Mall @ Guadalupe',\n",
       "       'Waller & 6th St.', 'West & 6th St.', 'Zilker Park',\n",
       "       'Zilker Park West'], dtype=object)"
      ]
     },
     "execution_count": 50,
     "metadata": {},
     "output_type": "execute_result"
    }
   ],
   "source": [
    "bcycle['checkout_kiosk'] = bcycle['checkout_kiosk'].str.strip()\n",
    "bcycle['return_kiosk'] = bcycle['return_kiosk'].str.strip()\n",
    "pd.set_option('display.max_rows', 150)\n",
    "bcycle.sort_values(by=['checkout_kiosk']).checkout_kiosk.unique()"
   ]
  },
  {
   "cell_type": "markdown",
   "metadata": {},
   "source": [
    "## Create a Unix timestamp"
   ]
  },
  {
   "cell_type": "code",
   "execution_count": 51,
   "metadata": {},
   "outputs": [],
   "source": [
    "bcycle[\"unix_checkout_time\"] = bcycle[\"checkout_date\"].map(str) + \" \" + bcycle[\"checkout_time\"]"
   ]
  },
  {
   "cell_type": "code",
   "execution_count": 53,
   "metadata": {},
   "outputs": [],
   "source": [
    "# set the parameter for how the date is being interpretted\n",
    "merge_time = datetime.strptime('04/29/2019 05:30:00', '%m/%d/%Y %H:%M:%S')\n",
    "\n",
    "# how i want the time coverted to (seconds)\n",
    "merge_time.strftime('%s')\n",
    "\n",
    "# define unix timestamp function\n",
    "def bcycle_to_timestamp(str):\n",
    "    merge_time = datetime.strptime(str, '%m/%d/%Y %H:%M:%S')\n",
    "    return merge_time.strftime('%s')\n",
    "\n",
    "# test that it worked\n",
    "bcycle_to_timestamp('04/29/2019 05:30:00')\n",
    "bcycle['unix_checkout_time'] = bcycle.unix_checkout_time.apply(bcycle_to_timestamp)"
   ]
  },
  {
   "cell_type": "markdown",
   "metadata": {},
   "source": [
    "## Create Hour Feature"
   ]
  },
  {
   "cell_type": "code",
   "execution_count": 54,
   "metadata": {},
   "outputs": [],
   "source": [
    "# create new column for hour\n",
    "bcycle['hour'] = bcycle['checkout_time']\n",
    "\n",
    "# set the parameter for how the date is being interpretted\n",
    "hour_feature = datetime.strptime('05:30:00', '%H:%M:%S')\n",
    "\n",
    "# how i want the time coverted to (hour)\n",
    "hour_feature.strftime('%H')\n",
    "\n",
    "# define unix timestamp function\n",
    "def bcycle_to_hour(str):\n",
    "    hour_feature = datetime.strptime(str, '%H:%M:%S')\n",
    "    return hour_feature.strftime('%H')\n",
    "\n",
    "bcycle['hour'] = bcycle.hour.apply(bcycle_to_hour)"
   ]
  },
  {
   "cell_type": "markdown",
   "metadata": {},
   "source": [
    "## Create Month Feature"
   ]
  },
  {
   "cell_type": "code",
   "execution_count": 55,
   "metadata": {},
   "outputs": [],
   "source": [
    "# create new column for month\n",
    "bcycle['month'] = bcycle['checkout_date']\n",
    "\n",
    "# set the parameter for how the date is being interpretted\n",
    "month_feature = datetime.strptime('04/29/2019', '%m/%d/%Y')\n",
    "\n",
    "# how i want the time coverted to (hour)\n",
    "month_feature.strftime('%m')\n",
    "\n",
    "# define unix timestamp function\n",
    "def bcycle_to_month(str):\n",
    "    month_feature = datetime.strptime(str, '%m/%d/%Y')\n",
    "    return month_feature.strftime('%m')\n",
    "\n",
    "bcycle['month'] = bcycle.month.apply(bcycle_to_month)"
   ]
  },
  {
   "cell_type": "markdown",
   "metadata": {},
   "source": [
    "## Create Year Feature"
   ]
  },
  {
   "cell_type": "code",
   "execution_count": 56,
   "metadata": {},
   "outputs": [],
   "source": [
    "# create new column for year\n",
    "bcycle['year'] = bcycle['checkout_date']\n",
    "\n",
    "# set the parameter for how the date is being interpretted\n",
    "year_feature = datetime.strptime('04/29/2019', '%m/%d/%Y')\n",
    "\n",
    "# how i want the time coverted to (year)\n",
    "year_feature.strftime('%Y')\n",
    "\n",
    "# define unix timestamp function\n",
    "def bcycle_to_year(str):\n",
    "    year_feature = datetime.strptime(str, '%m/%d/%Y')\n",
    "    return year_feature.strftime('%Y')\n",
    "\n",
    "bcycle['year'] = bcycle.year.apply(bcycle_to_year)"
   ]
  },
  {
   "cell_type": "markdown",
   "metadata": {},
   "source": [
    "## Create Day of Week"
   ]
  },
  {
   "cell_type": "code",
   "execution_count": 57,
   "metadata": {},
   "outputs": [],
   "source": [
    "from datetime import datetime\n",
    "# create new column for day of week\n",
    "bcycle['day_of_week'] = bcycle['checkout_date']\n",
    "\n",
    "# set the parameter for how the date is being interpretted\n",
    "weekday_feature = datetime.strptime('04/29/2019', '%m/%d/%Y')\n",
    "\n",
    "# how i want the time coverted to (year)\n",
    "weekday_feature.strftime('%w')\n",
    "\n",
    "# define unix timestamp function\n",
    "def bcycle_to_weekday(str):\n",
    "    weekday_feature = datetime.strptime(str, '%m/%d/%Y')\n",
    "    return weekday_feature.strftime('%w')\n",
    "\n",
    "bcycle['day_of_week'] = bcycle.day_of_week.apply(bcycle_to_weekday)"
   ]
  },
  {
   "cell_type": "markdown",
   "metadata": {},
   "source": [
    "## Downcast new columns to integers"
   ]
  },
  {
   "cell_type": "code",
   "execution_count": 58,
   "metadata": {},
   "outputs": [],
   "source": [
    "# convert to integer\n",
    "bcycle['unix_checkout_time'] = pd.to_numeric(bcycle['unix_checkout_time'], errors='ignore', downcast='integer')\n",
    "bcycle['hour'] = pd.to_numeric(bcycle['hour'], errors='ignore', downcast='integer')\n",
    "bcycle['month'] = pd.to_numeric(bcycle['month'], errors='ignore', downcast='integer')\n",
    "bcycle['year'] = pd.to_numeric(bcycle['year'], errors='ignore', downcast='integer')\n",
    "bcycle['day_of_week'] = pd.to_numeric(bcycle['day_of_week'], errors='ignore', downcast='integer')"
   ]
  },
  {
   "cell_type": "markdown",
   "metadata": {},
   "source": [
    "## Drop redundant Checkout time & date"
   ]
  },
  {
   "cell_type": "code",
   "execution_count": 59,
   "metadata": {},
   "outputs": [],
   "source": [
    "# drop checkout date \n",
    "bcycle.drop('checkout_date', 1, inplace=True)\n",
    "# drop checkout time \n",
    "bcycle.drop('checkout_time', 1, inplace=True)"
   ]
  },
  {
   "cell_type": "markdown",
   "metadata": {},
   "source": [
    "# Section II: Inspecting the BCycle data set"
   ]
  },
  {
   "cell_type": "code",
   "execution_count": 63,
   "metadata": {},
   "outputs": [
    {
     "data": {
      "text/plain": [
       "10981"
      ]
     },
     "execution_count": 63,
     "metadata": {},
     "output_type": "execute_result"
    }
   ],
   "source": [
    "# longest ride\n",
    "bcycle['trip_duration_minutes'].max()"
   ]
  },
  {
   "cell_type": "markdown",
   "metadata": {},
   "source": [
    "## As expected, the tail is too long to get a meaningful view of the distribution."
   ]
  },
  {
   "cell_type": "code",
   "execution_count": 59,
   "metadata": {},
   "outputs": [
    {
     "data": {
      "text/plain": [
       "<matplotlib.axes._subplots.AxesSubplot at 0x1a0dedafd0>"
      ]
     },
     "execution_count": 59,
     "metadata": {},
     "output_type": "execute_result"
    },
    {
     "data": {
      "image/png": "[encoded data removed]",
      "text/plain": [
       "<matplotlib.figure.Figure at 0x1a0def03c8>"
      ]
     },
     "metadata": {},
     "output_type": "display_data"
    }
   ],
   "source": [
    "bcycle.trip_duration_minutes.hist(bins=100)"
   ]
  },
  {
   "cell_type": "markdown",
   "metadata": {},
   "source": [
    "## According to the Austin BCycle website, no bike is supposed to be rented for more than 24 hours. Furthermore, \"checkouts lasting longer than 60 minutes will be charged an additional fee of 4 dollars (plus tax) for each additional 30 minutes past the first hour of a checkout...\""
   ]
  },
  {
   "cell_type": "markdown",
   "metadata": {},
   "source": [
    "source: https://austinbcycle.com/how-it-works/faqs "
   ]
  },
  {
   "cell_type": "markdown",
   "metadata": {},
   "source": [
    "## Assuming one did actually rent a bike for the full 24 hours, that would be an additional 199.18 dollars in fees after the first rental hour. That is a strong incentive to not have a bike ride last that long especially with other day-rental bike businesses available."
   ]
  },
  {
   "cell_type": "markdown",
   "metadata": {},
   "source": [
    "## For initial analysis, a 24-hour range will be used, which equals 1,440 minutes"
   ]
  },
  {
   "cell_type": "markdown",
   "metadata": {},
   "source": [
    "## Dividing the range into four equal sections demonstrates between the 1.5-2 hour mark (90-120 minutes) is when the distributions flattens significantly. "
   ]
  },
  {
   "cell_type": "code",
   "execution_count": 64,
   "metadata": {},
   "outputs": [
    {
     "data": {
      "image/png": "[encoded data removed]",
      "text/plain": [
       "<Figure size 1296x576 with 2 Axes>"
      ]
     },
     "metadata": {},
     "output_type": "display_data"
    }
   ],
   "source": [
    "# first quartile subplot\n",
    "plt.figure(figsize=[18,8])\n",
    "plt.subplot(1, 2, 1, autoscale_on=True)  # 1 line, 2 rows, index nr 1 (first position in the subplot)\n",
    "plt.title(\"Austin B-Cycle Trip Distribution: first quartile\",fontsize=20 )\n",
    "plt.ylabel(\"Number of Trips\",fontsize=20 ) \n",
    "plt.xlabel(\"Minutes\",fontsize=20 )\n",
    "plt.tick_params(labelsize=14,labelcolor=\"black\")\n",
    "\n",
    "# second quartile subplot\n",
    "bcycle.trip_duration_minutes.hist(bins=100, range=(0, 360))\n",
    "plt.subplot(1, 2, 2, autoscale_on=True)  # 1 line, 2 rows, index nr 2 (second position in the subplot)\n",
    "bcycle.trip_duration_minutes.hist(bins=100, range=(360, 720))\n",
    "plt.title(\"Austin B-Cycle Trip Distribution: second quartile\",fontsize=20 )\n",
    "plt.ylabel(\"Number of Trips\",fontsize=20 ) \n",
    "plt.xlabel(\"Minutes\",fontsize=20 )\n",
    "plt.tick_params(labelsize=14,labelcolor=\"black\")\n",
    "\n",
    "plt.show()"
   ]
  },
  {
   "cell_type": "code",
   "execution_count": 65,
   "metadata": {},
   "outputs": [
    {
     "data": {
      "image/png": "[encoded data removed]",
      "text/plain": [
       "<Figure size 1296x576 with 2 Axes>"
      ]
     },
     "metadata": {},
     "output_type": "display_data"
    }
   ],
   "source": [
    "# third quartile subplot\n",
    "plt.figure(figsize=[18,8])\n",
    "plt.subplot(1, 2, 1, autoscale_on=True)  # 1 line, 2 rows, index nr 1 (first position in the subplot)\n",
    "plt.title(\"Austin B-Cycle Trip Distribution: third quartile\",fontsize=20)\n",
    "plt.ylabel(\"Number of Trips\",fontsize=20) \n",
    "plt.xlabel(\"Minutes\",fontsize=20)\n",
    "plt.tick_params(labelsize=14,labelcolor=\"black\")\n",
    "\n",
    "# fourth quartile subplot\n",
    "bcycle.trip_duration_minutes.hist(bins=100, range=(720, 1080))\n",
    "plt.subplot(1, 2, 2, autoscale_on=True)  # 1 line, 2 rows, index nr 2 (second position in the subplot)\n",
    "plt.title(\"Austin B-Cycle Trip Distribution: fourth quartile\",fontsize=20)\n",
    "plt.ylabel(\"Number of Trips\",fontsize=20) \n",
    "plt.xlabel(\"Minutes\",fontsize=20)\n",
    "plt.tick_params(labelsize=14,labelcolor=\"black\")\n",
    "\n",
    "bcycle.trip_duration_minutes.hist(bins=100, range=(1080, 1440))\n",
    "plt.show()"
   ]
  },
  {
   "cell_type": "markdown",
   "metadata": {},
   "source": [
    "## How are the quartiles divided?"
   ]
  },
  {
   "cell_type": "code",
   "execution_count": 77,
   "metadata": {},
   "outputs": [
    {
     "data": {
      "text/plain": [
       "0.9930424537760306"
      ]
     },
     "execution_count": 77,
     "metadata": {},
     "output_type": "execute_result"
    }
   ],
   "source": [
    "# variable to measure the range\n",
    "first_quartile = bcycle.loc[(bcycle['trip_duration_minutes'] <= 350)]\n",
    "\n",
    "# 99% of the data is in the first quartile\n",
    "first_quartile_rate = len(first_quartile) / (len(bcycle))\n",
    "first_quartile_rate"
   ]
  },
  {
   "cell_type": "code",
   "execution_count": 81,
   "metadata": {},
   "outputs": [
    {
     "data": {
      "text/plain": [
       "0.003952442359844255"
      ]
     },
     "execution_count": 81,
     "metadata": {},
     "output_type": "execute_result"
    }
   ],
   "source": [
    "# variable to measure the range\n",
    "second_quartile = bcycle.loc[(bcycle['trip_duration_minutes'] > 350) &\n",
    "                           (bcycle['trip_duration_minutes'] <= 700)]\n",
    "\n",
    "second_quartile_rate = len(second_quartile) / (len(bcycle))\n",
    "second_quartile_rate"
   ]
  },
  {
   "cell_type": "code",
   "execution_count": 82,
   "metadata": {},
   "outputs": [
    {
     "data": {
      "text/plain": [
       "0.0019116096644568043"
      ]
     },
     "execution_count": 82,
     "metadata": {},
     "output_type": "execute_result"
    }
   ],
   "source": [
    "# variable to measure the range\n",
    "third_quartile = bcycle.loc[(bcycle['trip_duration_minutes'] > 700) &\n",
    "                           (bcycle['trip_duration_minutes'] <= 1050)]\n",
    "\n",
    "# 99% of the data is in the third quartile\n",
    "third_quartile_rate = len(third_quartile) / (len(bcycle))\n",
    "third_quartile_rate"
   ]
  },
  {
   "cell_type": "code",
   "execution_count": 83,
   "metadata": {},
   "outputs": [
    {
     "data": {
      "text/plain": [
       "0.0006942395937584385"
      ]
     },
     "execution_count": 83,
     "metadata": {},
     "output_type": "execute_result"
    }
   ],
   "source": [
    "# variable to measure the range\n",
    "fourth_quartile = bcycle.loc[(bcycle['trip_duration_minutes'] > 1050) &\n",
    "                           (bcycle['trip_duration_minutes'] <= 1400)]\n",
    "\n",
    "# 99% of the data is in the fourth quartile\n",
    "fourth_quartile_rate = len(fourth_quartile) / (len(bcycle))\n",
    "fourth_quartile_rate"
   ]
  },
  {
   "cell_type": "markdown",
   "metadata": {},
   "source": [
    "## > 99% of the rides are in the first quartile ranging from 0-350 minutes (~5.8 hours)"
   ]
  },
  {
   "cell_type": "markdown",
   "metadata": {},
   "source": [
    "# Observing \"False Starts\" in BCycle"
   ]
  },
  {
   "cell_type": "markdown",
   "metadata": {},
   "source": [
    "## There does appear to be an amount of rides that went nowhere or lasted a very short increment of time lasting 0-2 minutes. In the Dockless data set, this indication is even more pronouced."
   ]
  },
  {
   "cell_type": "markdown",
   "metadata": {},
   "source": [
    "## Since the number of rides lasting 0-2 minutes is consistent, this will be used as a preliminary range to observe false starts. This range can be adjusted in the future for modeling purposes."
   ]
  },
  {
   "cell_type": "code",
   "execution_count": 70,
   "metadata": {},
   "outputs": [
    {
     "data": {
      "image/png": "[encoded data removed]",
      "text/plain": [
       "<Figure size 1296x576 with 2 Axes>"
      ]
     },
     "metadata": {},
     "output_type": "display_data"
    }
   ],
   "source": [
    "# 0-5 minutes\n",
    "plt.figure(figsize=[18,8])\n",
    "plt.subplot(1, 2, 1, autoscale_on=True)  # 1 line, 2 rows, index nr 1 (first position in the subplot)\n",
    "bcycle.trip_duration_minutes.hist(bins=5, range=(0, 5))\n",
    "plt.title(\"Identifying False Starts: 0-5 Minutes\",fontsize=20)\n",
    "plt.ylabel(\"Number of Trips\",fontsize=20) \n",
    "plt.xlabel(\"Minutes\",fontsize=20)\n",
    "plt.tick_params(labelsize=14,labelcolor=\"black\")\n",
    "\n",
    "# 1-5 minutes; the number of trips skyrockets after 2 minutes.\n",
    "plt.subplot(1, 2, 2, autoscale_on=True)  # 1 line, 2 rows, index nr 2 (second position in the subplot)\n",
    "bcycle.trip_duration_minutes.hist(bins=10, range=(1, 10))\n",
    "plt.title(\"Identifying False Starts: 1-10 Minutes\",fontsize=20)\n",
    "plt.ylabel(\"Number of Trips\",fontsize=20) \n",
    "plt.xlabel(\"Minutes\",fontsize=20)\n",
    "plt.tick_params(labelsize=14,labelcolor=\"black\")\n",
    "\n",
    "plt.show()"
   ]
  },
  {
   "cell_type": "markdown",
   "metadata": {},
   "source": [
    "## Since 99% of the data is in the first quartile, those rides will be used to compare \"false starts\" to the data. This can be adjusted in the modeling section to see how performance is affected when using only the first quartile or the entire data set. "
   ]
  },
  {
   "cell_type": "code",
   "execution_count": 88,
   "metadata": {},
   "outputs": [],
   "source": [
    "# variable to measure the number of trips less than 3 minutes long\n",
    "fbr = bcycle.loc[(bcycle['trip_duration_minutes'] < 3)]"
   ]
  },
  {
   "cell_type": "code",
   "execution_count": 89,
   "metadata": {},
   "outputs": [
    {
     "data": {
      "text/plain": [
       "0.05764683969481976"
      ]
     },
     "execution_count": 89,
     "metadata": {},
     "output_type": "execute_result"
    }
   ],
   "source": [
    "# percentage of false starts in the dataset\n",
    "false_bcycle_rate = len(fbr) / (len(bcycle))\n",
    "false_bcycle_rate"
   ]
  },
  {
   "cell_type": "code",
   "execution_count": 90,
   "metadata": {},
   "outputs": [],
   "source": [
    "# instantiating a portion of the data set for rides >= to 3 minutes\n",
    "# and less than or equal to 350 minutes.\n",
    "normal_bcycle_rides = bcycle.loc[(bcycle['trip_duration_minutes'] >= 3)\n",
    "                                    & (bcycle['trip_duration_minutes'] <= 350)]"
   ]
  },
  {
   "cell_type": "markdown",
   "metadata": {},
   "source": [
    "# Save the data set to a new csv and pkl file"
   ]
  },
  {
   "cell_type": "code",
   "execution_count": 5,
   "metadata": {},
   "outputs": [],
   "source": [
    "#bcycle.to_csv('bcycle_cleaned')\n",
    "\n",
    "#bcycle.to_pickle('./bcycle_cleaned.pkl')\n",
    "\n",
    "# the below code is if needed to read the pkl file\n",
    "bcycle = pd.read_pickle('./bcycle_cleaned.pkl')"
   ]
  },
  {
   "cell_type": "code",
   "execution_count": null,
   "metadata": {},
   "outputs": [],
   "source": []
  }
 ],
 "metadata": {
  "kernelspec": {
   "display_name": "Python 3",
   "language": "python",
   "name": "python3"
  },
  "language_info": {
   "codemirror_mode": {
    "name": "ipython",
    "version": 3
   },
   "file_extension": ".py",
   "mimetype": "text/x-python",
   "name": "python",
   "nbconvert_exporter": "python",
   "pygments_lexer": "ipython3",
   "version": "3.7.3"
  }
 },
 "nbformat": 4,
 "nbformat_minor": 2
}
